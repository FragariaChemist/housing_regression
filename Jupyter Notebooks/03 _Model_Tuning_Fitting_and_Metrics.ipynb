{
 "cells": [
  {
   "cell_type": "markdown",
   "id": "b204d425-bb0e-4d16-8f78-bdacd8e24c03",
   "metadata": {},
   "source": [
    "# Model Tuning"
   ]
  },
  {
   "cell_type": "markdown",
   "id": "5d012edc-6348-4609-858b-8a601f581eb1",
   "metadata": {},
   "source": [
    "### Contents:\n",
    "- [Setup & Train/Test/Split](#Setup-&-Train/Test/Split)\n",
    "- [Data Transformations](#Data-Transformations)\n",
    "- [Model Fitting!](#Model-Fitting!)\n",
    "- [R2 and RMSE Values - Linear Regression](#R2-and-RMSE-Values---Linear-Regression)\n",
    "- [Model Tuning - Regularization](#Model-Tuning---Regularization)"
   ]
  },
  {
   "cell_type": "markdown",
   "id": "8c9011d5-9768-4ddb-8106-b20c1d8af51f",
   "metadata": {},
   "source": [
    "### Setup & Train/Test/Split\n",
    "---"
   ]
  },
  {
   "cell_type": "code",
   "execution_count": 1,
   "id": "af61d3a8-4e7a-47ca-838c-0752e9389bd0",
   "metadata": {},
   "outputs": [],
   "source": [
    "#Library Imports\n",
    "import pandas as pd\n",
    "import numpy as np\n",
    "import seaborn as sns\n",
    "\n",
    "import matplotlib.pyplot as plt\n",
    "from sklearn.preprocessing import OneHotEncoder, StandardScaler, PolynomialFeatures\n",
    "from sklearn.impute import SimpleImputer\n",
    "from sklearn.compose import ColumnTransformer\n",
    "from sklearn.model_selection import train_test_split, cross_val_score\n",
    "from sklearn.linear_model import LinearRegression, Ridge, RidgeCV, Lasso, LassoCV\n",
    "from sklearn.metrics import r2_score, mean_squared_error"
   ]
  },
  {
   "cell_type": "code",
   "execution_count": 2,
   "id": "9e0dda4c-4ce6-43ec-9d49-d02d3f5f93d1",
   "metadata": {},
   "outputs": [],
   "source": [
    "#Read in relevant csvs\n",
    "train_clean = pd.read_csv('../datasets/train_clean.csv')\n",
    "validate_clean = pd.read_csv('../datasets/validate_clean.csv')"
   ]
  },
  {
   "cell_type": "code",
   "execution_count": 3,
   "id": "494018d9-5461-4e69-94b9-bca0364c395a",
   "metadata": {},
   "outputs": [],
   "source": [
    "#Interaction terms code\n",
    "\n",
    "train_clean['kitchen_qual * overall_qual * exter_qual'] = train_clean['kitchen_qual'] * train_clean['overall_qual'] * train_clean['exter_qual']\n",
    "validate_clean['kitchen_qual * overall_qual * exter_qual'] = validate_clean['kitchen_qual'] * validate_clean['overall_qual'] * validate_clean['exter_qual']\n"
   ]
  },
  {
   "cell_type": "code",
   "execution_count": 4,
   "id": "6a1c0ac6-2dc6-469d-b1da-e26451d0759f",
   "metadata": {},
   "outputs": [],
   "source": [
    "#Features in use\n",
    "features = ['neighborhood',\n",
    "            'overall_cond',\n",
    "            'bldg_type',\n",
    "            'kitchen_qual',\n",
    "            'central_air',\n",
    "            'gr_liv_area',\n",
    "            'garage_area',\n",
    "            'total_bsmt_sf',\n",
    "            '1st_flr_sf',\n",
    "            'kitchen_qual * overall_qual * exter_qual',\n",
    "            'bedroom_abvgr',\n",
    "            'overall_qual',\n",
    "            'exter_qual',\n",
    "            'year_built']"
   ]
  },
  {
   "cell_type": "code",
   "execution_count": 5,
   "id": "d5f84af1-b11c-4f37-94f4-f78e77c4bd13",
   "metadata": {},
   "outputs": [],
   "source": [
    "#Test/Train Data\n",
    "X = train_clean[features]\n",
    "y = train_clean['saleprice']\n",
    "\n",
    "#Validate Data\n",
    "val = validate_clean[features]\n",
    "\n",
    "#Train/Test/Split\n",
    "X_train, X_test, y_train, y_test = train_test_split(X, y, random_state = 24)"
   ]
  },
  {
   "cell_type": "markdown",
   "id": "77f6e2d4-095c-43e8-8f9b-7a451554b271",
   "metadata": {},
   "source": [
    "### Data Transformations\n",
    "___"
   ]
  },
  {
   "cell_type": "code",
   "execution_count": 6,
   "id": "39de8350-48e9-4df4-ae25-c89520e6de32",
   "metadata": {},
   "outputs": [],
   "source": [
    "# Simple Imputing\n",
    "si = SimpleImputer(strategy = 'most_frequent').set_output(transform = 'pandas')\n",
    "imputefeatures = ['bedroom_abvgr']\n",
    "\n",
    "X_train[imputefeatures] = si.fit_transform(X_train[imputefeatures])\n",
    "X_test[imputefeatures] = si.transform(X_test[imputefeatures])"
   ]
  },
  {
   "cell_type": "code",
   "execution_count": 7,
   "id": "6c8e5aa3-98a2-4ff7-b0dc-48acd2337e3b",
   "metadata": {},
   "outputs": [],
   "source": [
    "#Transform the data with ColumnTransformer\n",
    "ohe = OneHotEncoder(drop = 'first',\n",
    "                    handle_unknown = 'ignore',\n",
    "                    sparse_output = False)\n",
    "\n",
    "ctx = ColumnTransformer(\n",
    "    transformers =[\n",
    "        ('one_hot', ohe, ['neighborhood', 'bldg_type']),\n",
    "        ('ss', StandardScaler(), ['bedroom_abvgr', '1st_flr_sf', 'garage_area', 'total_bsmt_sf'])\n",
    "    ], remainder = 'passthrough',\n",
    "    verbose_feature_names_out = False\n",
    ")"
   ]
  },
  {
   "cell_type": "code",
   "execution_count": 8,
   "id": "df6e7696-d2bc-479d-97f6-e42e8d497731",
   "metadata": {},
   "outputs": [],
   "source": [
    "#Fit and transform the training set\n",
    "X_train_ctx = pd.DataFrame(ctx.fit_transform(X_train),\n",
    "                           columns = ctx.get_feature_names_out())\n",
    "\n",
    "X_test_ctx = pd.DataFrame(ctx.transform(X_test),\n",
    "                           columns = ctx.get_feature_names_out())"
   ]
  },
  {
   "cell_type": "markdown",
   "id": "59f935c5-52d2-471f-844e-07f454591040",
   "metadata": {},
   "source": [
    "### Model Fitting!\n",
    "---"
   ]
  },
  {
   "cell_type": "markdown",
   "id": "5c3dd2ef-e821-4d78-8453-b7ccf982c684",
   "metadata": {},
   "source": [
    "Moment of Truth"
   ]
  },
  {
   "cell_type": "code",
   "execution_count": 9,
   "id": "ed122fa8-73ff-4579-a5cb-d782538d918c",
   "metadata": {},
   "outputs": [],
   "source": [
    "#Instantiate Linear Regression Model\n",
    "lr = LinearRegression()"
   ]
  },
  {
   "cell_type": "code",
   "execution_count": 10,
   "id": "63ae38e8-b29f-412c-adfc-76bbb24ac151",
   "metadata": {},
   "outputs": [
    {
     "data": {
      "text/html": [
       "<style>#sk-container-id-1 {color: black;background-color: white;}#sk-container-id-1 pre{padding: 0;}#sk-container-id-1 div.sk-toggleable {background-color: white;}#sk-container-id-1 label.sk-toggleable__label {cursor: pointer;display: block;width: 100%;margin-bottom: 0;padding: 0.3em;box-sizing: border-box;text-align: center;}#sk-container-id-1 label.sk-toggleable__label-arrow:before {content: \"▸\";float: left;margin-right: 0.25em;color: #696969;}#sk-container-id-1 label.sk-toggleable__label-arrow:hover:before {color: black;}#sk-container-id-1 div.sk-estimator:hover label.sk-toggleable__label-arrow:before {color: black;}#sk-container-id-1 div.sk-toggleable__content {max-height: 0;max-width: 0;overflow: hidden;text-align: left;background-color: #f0f8ff;}#sk-container-id-1 div.sk-toggleable__content pre {margin: 0.2em;color: black;border-radius: 0.25em;background-color: #f0f8ff;}#sk-container-id-1 input.sk-toggleable__control:checked~div.sk-toggleable__content {max-height: 200px;max-width: 100%;overflow: auto;}#sk-container-id-1 input.sk-toggleable__control:checked~label.sk-toggleable__label-arrow:before {content: \"▾\";}#sk-container-id-1 div.sk-estimator input.sk-toggleable__control:checked~label.sk-toggleable__label {background-color: #d4ebff;}#sk-container-id-1 div.sk-label input.sk-toggleable__control:checked~label.sk-toggleable__label {background-color: #d4ebff;}#sk-container-id-1 input.sk-hidden--visually {border: 0;clip: rect(1px 1px 1px 1px);clip: rect(1px, 1px, 1px, 1px);height: 1px;margin: -1px;overflow: hidden;padding: 0;position: absolute;width: 1px;}#sk-container-id-1 div.sk-estimator {font-family: monospace;background-color: #f0f8ff;border: 1px dotted black;border-radius: 0.25em;box-sizing: border-box;margin-bottom: 0.5em;}#sk-container-id-1 div.sk-estimator:hover {background-color: #d4ebff;}#sk-container-id-1 div.sk-parallel-item::after {content: \"\";width: 100%;border-bottom: 1px solid gray;flex-grow: 1;}#sk-container-id-1 div.sk-label:hover label.sk-toggleable__label {background-color: #d4ebff;}#sk-container-id-1 div.sk-serial::before {content: \"\";position: absolute;border-left: 1px solid gray;box-sizing: border-box;top: 0;bottom: 0;left: 50%;z-index: 0;}#sk-container-id-1 div.sk-serial {display: flex;flex-direction: column;align-items: center;background-color: white;padding-right: 0.2em;padding-left: 0.2em;position: relative;}#sk-container-id-1 div.sk-item {position: relative;z-index: 1;}#sk-container-id-1 div.sk-parallel {display: flex;align-items: stretch;justify-content: center;background-color: white;position: relative;}#sk-container-id-1 div.sk-item::before, #sk-container-id-1 div.sk-parallel-item::before {content: \"\";position: absolute;border-left: 1px solid gray;box-sizing: border-box;top: 0;bottom: 0;left: 50%;z-index: -1;}#sk-container-id-1 div.sk-parallel-item {display: flex;flex-direction: column;z-index: 1;position: relative;background-color: white;}#sk-container-id-1 div.sk-parallel-item:first-child::after {align-self: flex-end;width: 50%;}#sk-container-id-1 div.sk-parallel-item:last-child::after {align-self: flex-start;width: 50%;}#sk-container-id-1 div.sk-parallel-item:only-child::after {width: 0;}#sk-container-id-1 div.sk-dashed-wrapped {border: 1px dashed gray;margin: 0 0.4em 0.5em 0.4em;box-sizing: border-box;padding-bottom: 0.4em;background-color: white;}#sk-container-id-1 div.sk-label label {font-family: monospace;font-weight: bold;display: inline-block;line-height: 1.2em;}#sk-container-id-1 div.sk-label-container {text-align: center;}#sk-container-id-1 div.sk-container {/* jupyter's `normalize.less` sets `[hidden] { display: none; }` but bootstrap.min.css set `[hidden] { display: none !important; }` so we also need the `!important` here to be able to override the default hidden behavior on the sphinx rendered scikit-learn.org. See: https://github.com/scikit-learn/scikit-learn/issues/21755 */display: inline-block !important;position: relative;}#sk-container-id-1 div.sk-text-repr-fallback {display: none;}</style><div id=\"sk-container-id-1\" class=\"sk-top-container\"><div class=\"sk-text-repr-fallback\"><pre>LinearRegression()</pre><b>In a Jupyter environment, please rerun this cell to show the HTML representation or trust the notebook. <br />On GitHub, the HTML representation is unable to render, please try loading this page with nbviewer.org.</b></div><div class=\"sk-container\" hidden><div class=\"sk-item\"><div class=\"sk-estimator sk-toggleable\"><input class=\"sk-toggleable__control sk-hidden--visually\" id=\"sk-estimator-id-1\" type=\"checkbox\" checked><label for=\"sk-estimator-id-1\" class=\"sk-toggleable__label sk-toggleable__label-arrow\">LinearRegression</label><div class=\"sk-toggleable__content\"><pre>LinearRegression()</pre></div></div></div></div></div>"
      ],
      "text/plain": [
       "LinearRegression()"
      ]
     },
     "execution_count": 10,
     "metadata": {},
     "output_type": "execute_result"
    }
   ],
   "source": [
    "# Fit the Model\n",
    "lr.fit(X_train_ctx, y_train)"
   ]
  },
  {
   "cell_type": "markdown",
   "id": "946ceb15-a096-43b4-88ae-4099029a9312",
   "metadata": {},
   "source": [
    "### R2, RMSE, and Baseline Values - Linear Regression\n",
    "___"
   ]
  },
  {
   "cell_type": "markdown",
   "id": "56f67fbe-2d9d-4819-88a1-0a5398cfeab5",
   "metadata": {},
   "source": [
    "R2 values seem on the higher end with some high bias. RMSE is around 31000 for the train and 23500 for the test data, which may be considered high for the type of model this is."
   ]
  },
  {
   "cell_type": "code",
   "execution_count": 11,
   "id": "570e0d8e-6e57-4519-a593-811964b84b1f",
   "metadata": {},
   "outputs": [
    {
     "name": "stdout",
     "output_type": "stream",
     "text": [
      "Train R2 value is 0.852\n",
      "Test R2 value is 0.909\n",
      "Cross validation scores are [0.88891351 0.92252331 0.91099414 0.89835395 0.9138616 ]\n"
     ]
    }
   ],
   "source": [
    "print(f'Train R2 value is {round(lr.score(X_train_ctx, y_train),3)}')\n",
    "print(f'Test R2 value is {round(lr.score(X_test_ctx, y_test),3)}')\n",
    "print(f'Cross validation scores are {cross_val_score(lr, X_test_ctx, y_test)}')"
   ]
  },
  {
   "cell_type": "code",
   "execution_count": 12,
   "id": "928bf6bf-f53a-4aee-9cc3-66df43d5dc36",
   "metadata": {},
   "outputs": [
    {
     "name": "stdout",
     "output_type": "stream",
     "text": [
      "Root Mean Squared Error of Training Data: 30877.46332284694\n",
      "Root Mean Squared Error of Test Data: 22953.24174771525\n"
     ]
    }
   ],
   "source": [
    "print(f'Root Mean Squared Error of Training Data: {mean_squared_error(lr.predict(X_train_ctx), y_train, squared = False)}')\n",
    "print(f'Root Mean Squared Error of Test Data: {mean_squared_error(lr.predict(X_test_ctx), y_test, squared = False)}')"
   ]
  },
  {
   "cell_type": "markdown",
   "id": "2253edf9-3310-4879-9055-292ebb952605",
   "metadata": {},
   "source": [
    "The baseline model, using the mean house price for the test set, has a negative R2 value and higher RMSE than the models I have created."
   ]
  },
  {
   "cell_type": "code",
   "execution_count": 13,
   "id": "e656c187-a166-4140-a4e1-56a0a78bd626",
   "metadata": {},
   "outputs": [
    {
     "data": {
      "text/plain": [
       "181820.62353706112"
      ]
     },
     "execution_count": 13,
     "metadata": {},
     "output_type": "execute_result"
    }
   ],
   "source": [
    "#Baseline Score\n",
    "baseline = y_train.mean()\n",
    "baseline"
   ]
  },
  {
   "cell_type": "code",
   "execution_count": 14,
   "id": "8547234a-28f1-4be8-96be-b28711f0e28d",
   "metadata": {},
   "outputs": [],
   "source": [
    "b_model = LinearRegression()"
   ]
  },
  {
   "cell_type": "code",
   "execution_count": 15,
   "id": "217eb8ce-3b10-4f55-a071-d977537081fb",
   "metadata": {},
   "outputs": [
    {
     "data": {
      "text/plain": [
       "0       181820.623537\n",
       "1       181820.623537\n",
       "2       181820.623537\n",
       "3       181820.623537\n",
       "4       181820.623537\n",
       "            ...      \n",
       "1533    181820.623537\n",
       "1534    181820.623537\n",
       "1535    181820.623537\n",
       "1536    181820.623537\n",
       "1537    181820.623537\n",
       "Length: 1538, dtype: float64"
      ]
     },
     "execution_count": 15,
     "metadata": {},
     "output_type": "execute_result"
    }
   ],
   "source": [
    "baseline_series = pd.Series([baseline] * len(X_train_ctx))\n",
    "baseline_series"
   ]
  },
  {
   "cell_type": "code",
   "execution_count": 16,
   "id": "efaca0b1-e51c-4bdb-8436-62189335a222",
   "metadata": {},
   "outputs": [
    {
     "data": {
      "text/html": [
       "<style>#sk-container-id-2 {color: black;background-color: white;}#sk-container-id-2 pre{padding: 0;}#sk-container-id-2 div.sk-toggleable {background-color: white;}#sk-container-id-2 label.sk-toggleable__label {cursor: pointer;display: block;width: 100%;margin-bottom: 0;padding: 0.3em;box-sizing: border-box;text-align: center;}#sk-container-id-2 label.sk-toggleable__label-arrow:before {content: \"▸\";float: left;margin-right: 0.25em;color: #696969;}#sk-container-id-2 label.sk-toggleable__label-arrow:hover:before {color: black;}#sk-container-id-2 div.sk-estimator:hover label.sk-toggleable__label-arrow:before {color: black;}#sk-container-id-2 div.sk-toggleable__content {max-height: 0;max-width: 0;overflow: hidden;text-align: left;background-color: #f0f8ff;}#sk-container-id-2 div.sk-toggleable__content pre {margin: 0.2em;color: black;border-radius: 0.25em;background-color: #f0f8ff;}#sk-container-id-2 input.sk-toggleable__control:checked~div.sk-toggleable__content {max-height: 200px;max-width: 100%;overflow: auto;}#sk-container-id-2 input.sk-toggleable__control:checked~label.sk-toggleable__label-arrow:before {content: \"▾\";}#sk-container-id-2 div.sk-estimator input.sk-toggleable__control:checked~label.sk-toggleable__label {background-color: #d4ebff;}#sk-container-id-2 div.sk-label input.sk-toggleable__control:checked~label.sk-toggleable__label {background-color: #d4ebff;}#sk-container-id-2 input.sk-hidden--visually {border: 0;clip: rect(1px 1px 1px 1px);clip: rect(1px, 1px, 1px, 1px);height: 1px;margin: -1px;overflow: hidden;padding: 0;position: absolute;width: 1px;}#sk-container-id-2 div.sk-estimator {font-family: monospace;background-color: #f0f8ff;border: 1px dotted black;border-radius: 0.25em;box-sizing: border-box;margin-bottom: 0.5em;}#sk-container-id-2 div.sk-estimator:hover {background-color: #d4ebff;}#sk-container-id-2 div.sk-parallel-item::after {content: \"\";width: 100%;border-bottom: 1px solid gray;flex-grow: 1;}#sk-container-id-2 div.sk-label:hover label.sk-toggleable__label {background-color: #d4ebff;}#sk-container-id-2 div.sk-serial::before {content: \"\";position: absolute;border-left: 1px solid gray;box-sizing: border-box;top: 0;bottom: 0;left: 50%;z-index: 0;}#sk-container-id-2 div.sk-serial {display: flex;flex-direction: column;align-items: center;background-color: white;padding-right: 0.2em;padding-left: 0.2em;position: relative;}#sk-container-id-2 div.sk-item {position: relative;z-index: 1;}#sk-container-id-2 div.sk-parallel {display: flex;align-items: stretch;justify-content: center;background-color: white;position: relative;}#sk-container-id-2 div.sk-item::before, #sk-container-id-2 div.sk-parallel-item::before {content: \"\";position: absolute;border-left: 1px solid gray;box-sizing: border-box;top: 0;bottom: 0;left: 50%;z-index: -1;}#sk-container-id-2 div.sk-parallel-item {display: flex;flex-direction: column;z-index: 1;position: relative;background-color: white;}#sk-container-id-2 div.sk-parallel-item:first-child::after {align-self: flex-end;width: 50%;}#sk-container-id-2 div.sk-parallel-item:last-child::after {align-self: flex-start;width: 50%;}#sk-container-id-2 div.sk-parallel-item:only-child::after {width: 0;}#sk-container-id-2 div.sk-dashed-wrapped {border: 1px dashed gray;margin: 0 0.4em 0.5em 0.4em;box-sizing: border-box;padding-bottom: 0.4em;background-color: white;}#sk-container-id-2 div.sk-label label {font-family: monospace;font-weight: bold;display: inline-block;line-height: 1.2em;}#sk-container-id-2 div.sk-label-container {text-align: center;}#sk-container-id-2 div.sk-container {/* jupyter's `normalize.less` sets `[hidden] { display: none; }` but bootstrap.min.css set `[hidden] { display: none !important; }` so we also need the `!important` here to be able to override the default hidden behavior on the sphinx rendered scikit-learn.org. See: https://github.com/scikit-learn/scikit-learn/issues/21755 */display: inline-block !important;position: relative;}#sk-container-id-2 div.sk-text-repr-fallback {display: none;}</style><div id=\"sk-container-id-2\" class=\"sk-top-container\"><div class=\"sk-text-repr-fallback\"><pre>LinearRegression()</pre><b>In a Jupyter environment, please rerun this cell to show the HTML representation or trust the notebook. <br />On GitHub, the HTML representation is unable to render, please try loading this page with nbviewer.org.</b></div><div class=\"sk-container\" hidden><div class=\"sk-item\"><div class=\"sk-estimator sk-toggleable\"><input class=\"sk-toggleable__control sk-hidden--visually\" id=\"sk-estimator-id-2\" type=\"checkbox\" checked><label for=\"sk-estimator-id-2\" class=\"sk-toggleable__label sk-toggleable__label-arrow\">LinearRegression</label><div class=\"sk-toggleable__content\"><pre>LinearRegression()</pre></div></div></div></div></div>"
      ],
      "text/plain": [
       "LinearRegression()"
      ]
     },
     "execution_count": 16,
     "metadata": {},
     "output_type": "execute_result"
    }
   ],
   "source": [
    "b_model.fit(X_train_ctx, baseline_series)"
   ]
  },
  {
   "cell_type": "code",
   "execution_count": 17,
   "id": "09b98c13-9eb2-4bb1-8679-ec7f10931f72",
   "metadata": {},
   "outputs": [
    {
     "name": "stdout",
     "output_type": "stream",
     "text": [
      "Train R2 value is -7.196162493191385e+29\n",
      "Root Mean Squared Error of Training Data: 74066.51100852448\n",
      "Root Mean Squared Error of Test Data: 22953.24174771525\n"
     ]
    }
   ],
   "source": [
    "print(f'Train R2 value is {round(lr.score(X_train_ctx, baseline_series),3)}')\n",
    "print(f'Root Mean Squared Error of Training Data: {mean_squared_error(lr.predict(X_train_ctx), baseline_series, squared = False)}')\n",
    "print(f'Root Mean Squared Error of Test Data: {mean_squared_error(lr.predict(X_test_ctx), y_test, squared = False)}')"
   ]
  },
  {
   "cell_type": "markdown",
   "id": "b04b727a-6d26-4131-ad1c-3cb20ea3ba83",
   "metadata": {},
   "source": [
    "### Model Tuning - Regularization\n",
    "---"
   ]
  },
  {
   "cell_type": "markdown",
   "id": "7139bc60-240d-4363-bc99-842397b3d8ea",
   "metadata": {},
   "source": [
    "#### Ridge Regression"
   ]
  },
  {
   "cell_type": "markdown",
   "id": "2821f6da-45dd-4412-b730-1e32b8017b39",
   "metadata": {},
   "source": [
    "I kept getting the best alpha as 1 when trying to run a Ridge Regression.  After talking with Hank, I switched up between np.logspace and np.linspace.  Several iterations show that the best alpha value to use is ~0.68.  However, the R2 score doesn't change much."
   ]
  },
  {
   "cell_type": "markdown",
   "id": "efaa7dc9-6c4b-4d59-bc50-81e8323e58f1",
   "metadata": {},
   "source": [
    "After running a ridge regression on my model, I don't see any improvement in model scores"
   ]
  },
  {
   "cell_type": "code",
   "execution_count": null,
   "id": "f4d2a23e-5e0b-4dee-b60f-abc2b7e9fe2d",
   "metadata": {},
   "outputs": [],
   "source": [
    "# Setting up a list of ridge alphas to check \n",
    "alphas = np.logspace(-5, 10, 1000)\n",
    "\n",
    "#Cross validation\n",
    "ridge_cv = RidgeCV(alphas = alphas, cv = 5)\n",
    "\n",
    "#Fit using best ridge alpha value\n",
    "ridge_cv.fit(X_train_ctx, y_train)\n"
   ]
  },
  {
   "cell_type": "code",
   "execution_count": null,
   "id": "08db3f4c-316a-4af0-84f6-46e24f1dcef6",
   "metadata": {},
   "outputs": [],
   "source": [
    "ridge_cv.alpha_"
   ]
  },
  {
   "cell_type": "code",
   "execution_count": null,
   "id": "4288ac7a-4f02-496c-9c1c-a4ecb2850aa3",
   "metadata": {},
   "outputs": [],
   "source": [
    "ridge_cv.best_score_"
   ]
  },
  {
   "cell_type": "code",
   "execution_count": null,
   "id": "5f46556b-162f-4984-b3bd-a1367a3707cf",
   "metadata": {},
   "outputs": [],
   "source": [
    "print(f'Training score with ridge cv: {ridge_cv.score(X_train_ctx, y_train)}')\n",
    "# Different than .best_score_ because this is using the entire training set, not just a fold from\n",
    "print(f'Testing score with ridge cv: {ridge_cv.score(X_test_ctx, y_test)}')"
   ]
  },
  {
   "cell_type": "markdown",
   "id": "a0d8f334-0bbc-4bb4-bdab-611f276e3eb5",
   "metadata": {},
   "source": [
    "#### Lasso Regression"
   ]
  },
  {
   "cell_type": "markdown",
   "id": "a20925d4-556c-4c26-8e56-fe3bdadc3afa",
   "metadata": {},
   "source": [
    "After running several iterations of np.linspace and np.logspace, alpha value of ~11 "
   ]
  },
  {
   "cell_type": "code",
   "execution_count": null,
   "id": "766c0246-8c2d-484f-8122-ac683f1922b6",
   "metadata": {
    "scrolled": true
   },
   "outputs": [],
   "source": [
    "#Lasso alphas to check\n",
    "l_alphas = np.linspace(0.1, 100, 1000)\n",
    "\n",
    "#Cross validation\n",
    "lasso_cv = LassoCV(alphas = l_alphas)\n",
    "\n",
    "#Fit model\n",
    "lasso_cv.fit(X_train_ctx, y_train)"
   ]
  },
  {
   "cell_type": "code",
   "execution_count": null,
   "id": "49e36e53-84fc-46f7-a288-35a0f2115335",
   "metadata": {},
   "outputs": [],
   "source": [
    "lasso_cv.alpha_"
   ]
  },
  {
   "cell_type": "code",
   "execution_count": null,
   "id": "db880312-e308-4b88-ad51-17cf421f874b",
   "metadata": {},
   "outputs": [],
   "source": [
    "print(lasso_cv.score(X_train_ctx, y_train))\n",
    "print(lasso_cv.score(X_test_ctx, y_test))"
   ]
  },
  {
   "cell_type": "code",
   "execution_count": null,
   "id": "8be6d6b1-6d3e-4167-8f1c-4e2ff567522d",
   "metadata": {},
   "outputs": [],
   "source": [
    "lasso_cv.coef_"
   ]
  },
  {
   "cell_type": "markdown",
   "id": "e6362525-acd0-4847-9aeb-4efb1e937bdc",
   "metadata": {},
   "source": [
    "### Summary\n",
    "___"
   ]
  },
  {
   "cell_type": "markdown",
   "id": "cb3f6dc8-2cf2-4c74-9815-e0c0a1424aa8",
   "metadata": {},
   "source": [
    "I belive this model is a significant improvement over the baseline model.  I went through various features of the dataset and used visualizations to check for relationships between the features and sale price.  If I could see a relationship, I cleaned the feature data and addeed it to my model.  The process was repeated until I could no longer generate a significant improvement in metric scores.  The model has somewhat of a high bias, but I never reached the point of overfitting."
   ]
  },
  {
   "cell_type": "code",
   "execution_count": null,
   "id": "33306866-e415-44bd-bd79-0df3a64caf69",
   "metadata": {},
   "outputs": [],
   "source": []
  }
 ],
 "metadata": {
  "kernelspec": {
   "display_name": "Python 3 (ipykernel)",
   "language": "python",
   "name": "python3"
  },
  "language_info": {
   "codemirror_mode": {
    "name": "ipython",
    "version": 3
   },
   "file_extension": ".py",
   "mimetype": "text/x-python",
   "name": "python",
   "nbconvert_exporter": "python",
   "pygments_lexer": "ipython3",
   "version": "3.11.7"
  }
 },
 "nbformat": 4,
 "nbformat_minor": 5
}
