{
 "cells": [
  {
   "cell_type": "markdown",
   "id": "b204d425-bb0e-4d16-8f78-bdacd8e24c03",
   "metadata": {},
   "source": [
    "# Interpretable Model Start To Finish"
   ]
  },
  {
   "cell_type": "markdown",
   "id": "9a8ae924-ec2d-4976-b805-6851055cb3ee",
   "metadata": {},
   "source": [
    "I went down a rabbit hole of feature engineering until Hank reminded me that I need a model that is interpretable.  This is a code only walk-through of a model that is a simpler and interpretable model.  Based off my initial model in previous notebooks, therefore all of the cleaning and exploration is the same."
   ]
  },
  {
   "cell_type": "markdown",
   "id": "5d012edc-6348-4609-858b-8a601f581eb1",
   "metadata": {},
   "source": [
    "### Contents:\n",
    "- [Setup & Train/Test/Split](#Setup-&-Train/Test/Split)\n",
    "- [Data Transformations](#Data-Transformations)\n",
    "- [Model Fitting!](#Model-Fitting!)\n",
    "- [R2 and RMSE Values - Linear Regression](#R2-and-RMSE-Values---Linear-Regression)\n",
    "- [Interpretability](#Interpretability)\n",
    "- [LINE Assumptions](#LINE-Assumptions)\n",
    "- [Model Tuning - Regularization](#Model-Tuning---Regularization)"
   ]
  },
  {
   "cell_type": "markdown",
   "id": "8c9011d5-9768-4ddb-8106-b20c1d8af51f",
   "metadata": {},
   "source": [
    "### Setup & Train/Test/Split\n",
    "---"
   ]
  },
  {
   "cell_type": "code",
   "execution_count": 1,
   "id": "af61d3a8-4e7a-47ca-838c-0752e9389bd0",
   "metadata": {},
   "outputs": [],
   "source": [
    "#Library Imports\n",
    "import pandas as pd\n",
    "import numpy as np\n",
    "import seaborn as sns\n",
    "import scipy.stats as stats\n",
    "\n",
    "import matplotlib.pyplot as plt\n",
    "from sklearn.preprocessing import OneHotEncoder\n",
    "from sklearn.compose import ColumnTransformer\n",
    "from sklearn.model_selection import train_test_split, cross_val_score\n",
    "from sklearn.linear_model import LinearRegression, Ridge, RidgeCV, Lasso, LassoCV\n",
    "from sklearn.metrics import r2_score, mean_squared_error\n",
    "import statsmodels.api as sm"
   ]
  },
  {
   "cell_type": "code",
   "execution_count": 2,
   "id": "9e0dda4c-4ce6-43ec-9d49-d02d3f5f93d1",
   "metadata": {},
   "outputs": [],
   "source": [
    "#Read in relevant csvs\n",
    "train_clean = pd.read_csv('../datasets/train_clean.csv')\n",
    "validate_clean = pd.read_csv('../datasets/validate_clean.csv')"
   ]
  },
  {
   "cell_type": "code",
   "execution_count": 3,
   "id": "6a1c0ac6-2dc6-469d-b1da-e26451d0759f",
   "metadata": {},
   "outputs": [],
   "source": [
    "#Features in use\n",
    "features = ['neighborhood',\n",
    "            'gr_liv_area',\n",
    "            'overall_qual',]"
   ]
  },
  {
   "cell_type": "code",
   "execution_count": 4,
   "id": "d5f84af1-b11c-4f37-94f4-f78e77c4bd13",
   "metadata": {},
   "outputs": [],
   "source": [
    "#Test/Train Data\n",
    "X = train_clean[features]\n",
    "y = train_clean['saleprice']\n",
    "\n",
    "#Validate Data\n",
    "val = validate_clean[features]\n",
    "\n",
    "#Train/Test/Split\n",
    "X_train, X_test, y_train, y_test = train_test_split(X, y, random_state = 24)"
   ]
  },
  {
   "cell_type": "markdown",
   "id": "77f6e2d4-095c-43e8-8f9b-7a451554b271",
   "metadata": {},
   "source": [
    "### Data Transformations\n",
    "___"
   ]
  },
  {
   "cell_type": "code",
   "execution_count": 5,
   "id": "6c8e5aa3-98a2-4ff7-b0dc-48acd2337e3b",
   "metadata": {},
   "outputs": [],
   "source": [
    "#Transform the data with ColumnTransformer\n",
    "ohe = OneHotEncoder(drop = 'first',\n",
    "                    handle_unknown = 'ignore',\n",
    "                    sparse_output = False)\n",
    "\n",
    "ctx = ColumnTransformer(\n",
    "    transformers =[\n",
    "        ('one_hot', ohe, ['neighborhood']),\n",
    "    ], remainder = 'passthrough',\n",
    "    verbose_feature_names_out = False\n",
    ")"
   ]
  },
  {
   "cell_type": "code",
   "execution_count": 6,
   "id": "df6e7696-d2bc-479d-97f6-e42e8d497731",
   "metadata": {},
   "outputs": [],
   "source": [
    "#Fit and transform the training set\n",
    "X_train_ctx = pd.DataFrame(ctx.fit_transform(X_train),\n",
    "                           columns = ctx.get_feature_names_out())\n",
    "\n",
    "X_test_ctx = pd.DataFrame(ctx.transform(X_test),\n",
    "                           columns = ctx.get_feature_names_out())\n"
   ]
  },
  {
   "cell_type": "markdown",
   "id": "59f935c5-52d2-471f-844e-07f454591040",
   "metadata": {},
   "source": [
    "### Model Fitting!\n",
    "---"
   ]
  },
  {
   "cell_type": "code",
   "execution_count": 7,
   "id": "ed122fa8-73ff-4579-a5cb-d782538d918c",
   "metadata": {},
   "outputs": [],
   "source": [
    "#Instantiate Linear Regression Model\n",
    "lr = LinearRegression()"
   ]
  },
  {
   "cell_type": "code",
   "execution_count": 8,
   "id": "63ae38e8-b29f-412c-adfc-76bbb24ac151",
   "metadata": {},
   "outputs": [
    {
     "data": {
      "text/html": [
       "<style>#sk-container-id-1 {color: black;background-color: white;}#sk-container-id-1 pre{padding: 0;}#sk-container-id-1 div.sk-toggleable {background-color: white;}#sk-container-id-1 label.sk-toggleable__label {cursor: pointer;display: block;width: 100%;margin-bottom: 0;padding: 0.3em;box-sizing: border-box;text-align: center;}#sk-container-id-1 label.sk-toggleable__label-arrow:before {content: \"▸\";float: left;margin-right: 0.25em;color: #696969;}#sk-container-id-1 label.sk-toggleable__label-arrow:hover:before {color: black;}#sk-container-id-1 div.sk-estimator:hover label.sk-toggleable__label-arrow:before {color: black;}#sk-container-id-1 div.sk-toggleable__content {max-height: 0;max-width: 0;overflow: hidden;text-align: left;background-color: #f0f8ff;}#sk-container-id-1 div.sk-toggleable__content pre {margin: 0.2em;color: black;border-radius: 0.25em;background-color: #f0f8ff;}#sk-container-id-1 input.sk-toggleable__control:checked~div.sk-toggleable__content {max-height: 200px;max-width: 100%;overflow: auto;}#sk-container-id-1 input.sk-toggleable__control:checked~label.sk-toggleable__label-arrow:before {content: \"▾\";}#sk-container-id-1 div.sk-estimator input.sk-toggleable__control:checked~label.sk-toggleable__label {background-color: #d4ebff;}#sk-container-id-1 div.sk-label input.sk-toggleable__control:checked~label.sk-toggleable__label {background-color: #d4ebff;}#sk-container-id-1 input.sk-hidden--visually {border: 0;clip: rect(1px 1px 1px 1px);clip: rect(1px, 1px, 1px, 1px);height: 1px;margin: -1px;overflow: hidden;padding: 0;position: absolute;width: 1px;}#sk-container-id-1 div.sk-estimator {font-family: monospace;background-color: #f0f8ff;border: 1px dotted black;border-radius: 0.25em;box-sizing: border-box;margin-bottom: 0.5em;}#sk-container-id-1 div.sk-estimator:hover {background-color: #d4ebff;}#sk-container-id-1 div.sk-parallel-item::after {content: \"\";width: 100%;border-bottom: 1px solid gray;flex-grow: 1;}#sk-container-id-1 div.sk-label:hover label.sk-toggleable__label {background-color: #d4ebff;}#sk-container-id-1 div.sk-serial::before {content: \"\";position: absolute;border-left: 1px solid gray;box-sizing: border-box;top: 0;bottom: 0;left: 50%;z-index: 0;}#sk-container-id-1 div.sk-serial {display: flex;flex-direction: column;align-items: center;background-color: white;padding-right: 0.2em;padding-left: 0.2em;position: relative;}#sk-container-id-1 div.sk-item {position: relative;z-index: 1;}#sk-container-id-1 div.sk-parallel {display: flex;align-items: stretch;justify-content: center;background-color: white;position: relative;}#sk-container-id-1 div.sk-item::before, #sk-container-id-1 div.sk-parallel-item::before {content: \"\";position: absolute;border-left: 1px solid gray;box-sizing: border-box;top: 0;bottom: 0;left: 50%;z-index: -1;}#sk-container-id-1 div.sk-parallel-item {display: flex;flex-direction: column;z-index: 1;position: relative;background-color: white;}#sk-container-id-1 div.sk-parallel-item:first-child::after {align-self: flex-end;width: 50%;}#sk-container-id-1 div.sk-parallel-item:last-child::after {align-self: flex-start;width: 50%;}#sk-container-id-1 div.sk-parallel-item:only-child::after {width: 0;}#sk-container-id-1 div.sk-dashed-wrapped {border: 1px dashed gray;margin: 0 0.4em 0.5em 0.4em;box-sizing: border-box;padding-bottom: 0.4em;background-color: white;}#sk-container-id-1 div.sk-label label {font-family: monospace;font-weight: bold;display: inline-block;line-height: 1.2em;}#sk-container-id-1 div.sk-label-container {text-align: center;}#sk-container-id-1 div.sk-container {/* jupyter's `normalize.less` sets `[hidden] { display: none; }` but bootstrap.min.css set `[hidden] { display: none !important; }` so we also need the `!important` here to be able to override the default hidden behavior on the sphinx rendered scikit-learn.org. See: https://github.com/scikit-learn/scikit-learn/issues/21755 */display: inline-block !important;position: relative;}#sk-container-id-1 div.sk-text-repr-fallback {display: none;}</style><div id=\"sk-container-id-1\" class=\"sk-top-container\"><div class=\"sk-text-repr-fallback\"><pre>LinearRegression()</pre><b>In a Jupyter environment, please rerun this cell to show the HTML representation or trust the notebook. <br />On GitHub, the HTML representation is unable to render, please try loading this page with nbviewer.org.</b></div><div class=\"sk-container\" hidden><div class=\"sk-item\"><div class=\"sk-estimator sk-toggleable\"><input class=\"sk-toggleable__control sk-hidden--visually\" id=\"sk-estimator-id-1\" type=\"checkbox\" checked><label for=\"sk-estimator-id-1\" class=\"sk-toggleable__label sk-toggleable__label-arrow\">LinearRegression</label><div class=\"sk-toggleable__content\"><pre>LinearRegression()</pre></div></div></div></div></div>"
      ],
      "text/plain": [
       "LinearRegression()"
      ]
     },
     "execution_count": 8,
     "metadata": {},
     "output_type": "execute_result"
    }
   ],
   "source": [
    "# Baseline Score\n",
    "lr.fit(X_train_ctx, y_train)"
   ]
  },
  {
   "cell_type": "markdown",
   "id": "946ceb15-a096-43b4-88ae-4099029a9312",
   "metadata": {},
   "source": [
    "### R2 and RMSE Values - Linear Regression\n",
    "___"
   ]
  },
  {
   "cell_type": "markdown",
   "id": "56f67fbe-2d9d-4819-88a1-0a5398cfeab5",
   "metadata": {},
   "source": [
    "Both the R2  and RMSE values are not as good as my initial model, however this one is interpretable."
   ]
  },
  {
   "cell_type": "code",
   "execution_count": 9,
   "id": "570e0d8e-6e57-4519-a593-811964b84b1f",
   "metadata": {},
   "outputs": [
    {
     "name": "stdout",
     "output_type": "stream",
     "text": [
      "Train R2 value is 0.786\n",
      "Test R2 value is 0.84\n",
      "Cross validation cross scores are [0.80950527 0.84484229 0.81361689 0.82682171 0.83034935]\n"
     ]
    }
   ],
   "source": [
    "print(f'Train R2 value is {round(lr.score(X_train_ctx, y_train),3)}')\n",
    "print(f'Test R2 value is {round(lr.score(X_test_ctx, y_test),3)}')\n",
    "print(f'Cross validation cross scores are {cross_val_score(lr, X_test_ctx, y_test)}')"
   ]
  },
  {
   "cell_type": "code",
   "execution_count": 10,
   "id": "928bf6bf-f53a-4aee-9cc3-66df43d5dc36",
   "metadata": {},
   "outputs": [
    {
     "name": "stdout",
     "output_type": "stream",
     "text": [
      "Root Mean Squared Error of Training Data: 37092.726573015694\n",
      "Root Mean Squared Error of Test Data: 30492.455545132947\n"
     ]
    }
   ],
   "source": [
    "print(f'Root Mean Squared Error of Training Data: {mean_squared_error(lr.predict(X_train_ctx), y_train, squared = False)}')\n",
    "print(f'Root Mean Squared Error of Test Data: {mean_squared_error(lr.predict(X_test_ctx), y_test, squared = False)}')"
   ]
  },
  {
   "cell_type": "markdown",
   "id": "57dba2a6-a748-4316-b34c-342754b678fc",
   "metadata": {},
   "source": [
    "### Interpretability\n",
    "---"
   ]
  },
  {
   "cell_type": "markdown",
   "id": "6a4b0e76-7146-4c21-b0a0-e56af7cf18a7",
   "metadata": {},
   "source": [
    "Below is a table of all features and their coefficient.  For instance, if the house is located in Northridge (neighborhood_NoRidge), then the sale price - **holding all other factors constant** -  will be about  52_910 dollars higher than average.  For every square foot of Living Room space (gr_liv_area) - **again, holding all other factors constant** - , the sale price will increase by about $54.  "
   ]
  },
  {
   "cell_type": "code",
   "execution_count": 11,
   "id": "71821059-4964-4719-8b34-a0390b8af87c",
   "metadata": {},
   "outputs": [],
   "source": [
    "interpret_df = pd.DataFrame({'Feature': X_train_ctx.columns, 'Coefficient': lr.coef_})"
   ]
  },
  {
   "cell_type": "code",
   "execution_count": 12,
   "id": "09ac0b24-f574-4b67-a4e1-7fa662c551b0",
   "metadata": {
    "scrolled": true
   },
   "outputs": [
    {
     "data": {
      "text/html": [
       "<div>\n",
       "<style scoped>\n",
       "    .dataframe tbody tr th:only-of-type {\n",
       "        vertical-align: middle;\n",
       "    }\n",
       "\n",
       "    .dataframe tbody tr th {\n",
       "        vertical-align: top;\n",
       "    }\n",
       "\n",
       "    .dataframe thead th {\n",
       "        text-align: right;\n",
       "    }\n",
       "</style>\n",
       "<table border=\"1\" class=\"dataframe\">\n",
       "  <thead>\n",
       "    <tr style=\"text-align: right;\">\n",
       "      <th></th>\n",
       "      <th>Feature</th>\n",
       "      <th>Coefficient</th>\n",
       "    </tr>\n",
       "  </thead>\n",
       "  <tbody>\n",
       "    <tr>\n",
       "      <th>9</th>\n",
       "      <td>neighborhood_GrnHill</td>\n",
       "      <td>85074.270660</td>\n",
       "    </tr>\n",
       "    <tr>\n",
       "      <th>24</th>\n",
       "      <td>neighborhood_StoneBr</td>\n",
       "      <td>74989.156627</td>\n",
       "    </tr>\n",
       "    <tr>\n",
       "      <th>18</th>\n",
       "      <td>neighborhood_NridgHt</td>\n",
       "      <td>69306.196543</td>\n",
       "    </tr>\n",
       "    <tr>\n",
       "      <th>17</th>\n",
       "      <td>neighborhood_NoRidge</td>\n",
       "      <td>52909.722178</td>\n",
       "    </tr>\n",
       "    <tr>\n",
       "      <th>25</th>\n",
       "      <td>neighborhood_Timber</td>\n",
       "      <td>29064.533608</td>\n",
       "    </tr>\n",
       "    <tr>\n",
       "      <th>26</th>\n",
       "      <td>neighborhood_Veenker</td>\n",
       "      <td>23678.619891</td>\n",
       "    </tr>\n",
       "    <tr>\n",
       "      <th>28</th>\n",
       "      <td>overall_qual</td>\n",
       "      <td>21656.764366</td>\n",
       "    </tr>\n",
       "    <tr>\n",
       "      <th>3</th>\n",
       "      <td>neighborhood_ClearCr</td>\n",
       "      <td>19819.301416</td>\n",
       "    </tr>\n",
       "    <tr>\n",
       "      <th>23</th>\n",
       "      <td>neighborhood_Somerst</td>\n",
       "      <td>14819.746101</td>\n",
       "    </tr>\n",
       "    <tr>\n",
       "      <th>5</th>\n",
       "      <td>neighborhood_Crawfor</td>\n",
       "      <td>12801.679179</td>\n",
       "    </tr>\n",
       "    <tr>\n",
       "      <th>4</th>\n",
       "      <td>neighborhood_CollgCr</td>\n",
       "      <td>9392.035278</td>\n",
       "    </tr>\n",
       "    <tr>\n",
       "      <th>13</th>\n",
       "      <td>neighborhood_Mitchel</td>\n",
       "      <td>5215.594760</td>\n",
       "    </tr>\n",
       "    <tr>\n",
       "      <th>27</th>\n",
       "      <td>gr_liv_area</td>\n",
       "      <td>53.674974</td>\n",
       "    </tr>\n",
       "    <tr>\n",
       "      <th>8</th>\n",
       "      <td>neighborhood_Greens</td>\n",
       "      <td>-1323.560682</td>\n",
       "    </tr>\n",
       "    <tr>\n",
       "      <th>21</th>\n",
       "      <td>neighborhood_Sawyer</td>\n",
       "      <td>-5011.249543</td>\n",
       "    </tr>\n",
       "    <tr>\n",
       "      <th>16</th>\n",
       "      <td>neighborhood_NWAmes</td>\n",
       "      <td>-5646.836192</td>\n",
       "    </tr>\n",
       "    <tr>\n",
       "      <th>7</th>\n",
       "      <td>neighborhood_Gilbert</td>\n",
       "      <td>-5709.484461</td>\n",
       "    </tr>\n",
       "    <tr>\n",
       "      <th>14</th>\n",
       "      <td>neighborhood_NAmes</td>\n",
       "      <td>-6109.865807</td>\n",
       "    </tr>\n",
       "    <tr>\n",
       "      <th>22</th>\n",
       "      <td>neighborhood_SawyerW</td>\n",
       "      <td>-7597.380968</td>\n",
       "    </tr>\n",
       "    <tr>\n",
       "      <th>2</th>\n",
       "      <td>neighborhood_BrkSide</td>\n",
       "      <td>-20405.789984</td>\n",
       "    </tr>\n",
       "    <tr>\n",
       "      <th>6</th>\n",
       "      <td>neighborhood_Edwards</td>\n",
       "      <td>-20890.962782</td>\n",
       "    </tr>\n",
       "    <tr>\n",
       "      <th>12</th>\n",
       "      <td>neighborhood_MeadowV</td>\n",
       "      <td>-26113.584666</td>\n",
       "    </tr>\n",
       "    <tr>\n",
       "      <th>0</th>\n",
       "      <td>neighborhood_Blueste</td>\n",
       "      <td>-28326.664394</td>\n",
       "    </tr>\n",
       "    <tr>\n",
       "      <th>15</th>\n",
       "      <td>neighborhood_NPkVill</td>\n",
       "      <td>-29475.392902</td>\n",
       "    </tr>\n",
       "    <tr>\n",
       "      <th>10</th>\n",
       "      <td>neighborhood_IDOTRR</td>\n",
       "      <td>-31732.234325</td>\n",
       "    </tr>\n",
       "    <tr>\n",
       "      <th>11</th>\n",
       "      <td>neighborhood_Landmrk</td>\n",
       "      <td>-32055.479512</td>\n",
       "    </tr>\n",
       "    <tr>\n",
       "      <th>19</th>\n",
       "      <td>neighborhood_OldTown</td>\n",
       "      <td>-34631.145987</td>\n",
       "    </tr>\n",
       "    <tr>\n",
       "      <th>20</th>\n",
       "      <td>neighborhood_SWISU</td>\n",
       "      <td>-34729.844614</td>\n",
       "    </tr>\n",
       "    <tr>\n",
       "      <th>1</th>\n",
       "      <td>neighborhood_BrDale</td>\n",
       "      <td>-47546.378616</td>\n",
       "    </tr>\n",
       "  </tbody>\n",
       "</table>\n",
       "</div>"
      ],
      "text/plain": [
       "                 Feature   Coefficient\n",
       "9   neighborhood_GrnHill  85074.270660\n",
       "24  neighborhood_StoneBr  74989.156627\n",
       "18  neighborhood_NridgHt  69306.196543\n",
       "17  neighborhood_NoRidge  52909.722178\n",
       "25   neighborhood_Timber  29064.533608\n",
       "26  neighborhood_Veenker  23678.619891\n",
       "28          overall_qual  21656.764366\n",
       "3   neighborhood_ClearCr  19819.301416\n",
       "23  neighborhood_Somerst  14819.746101\n",
       "5   neighborhood_Crawfor  12801.679179\n",
       "4   neighborhood_CollgCr   9392.035278\n",
       "13  neighborhood_Mitchel   5215.594760\n",
       "27           gr_liv_area     53.674974\n",
       "8    neighborhood_Greens  -1323.560682\n",
       "21   neighborhood_Sawyer  -5011.249543\n",
       "16   neighborhood_NWAmes  -5646.836192\n",
       "7   neighborhood_Gilbert  -5709.484461\n",
       "14    neighborhood_NAmes  -6109.865807\n",
       "22  neighborhood_SawyerW  -7597.380968\n",
       "2   neighborhood_BrkSide -20405.789984\n",
       "6   neighborhood_Edwards -20890.962782\n",
       "12  neighborhood_MeadowV -26113.584666\n",
       "0   neighborhood_Blueste -28326.664394\n",
       "15  neighborhood_NPkVill -29475.392902\n",
       "10   neighborhood_IDOTRR -31732.234325\n",
       "11  neighborhood_Landmrk -32055.479512\n",
       "19  neighborhood_OldTown -34631.145987\n",
       "20    neighborhood_SWISU -34729.844614\n",
       "1    neighborhood_BrDale -47546.378616"
      ]
     },
     "execution_count": 12,
     "metadata": {},
     "output_type": "execute_result"
    }
   ],
   "source": [
    "interpret_df.sort_values(by = 'Coefficient', ascending = False)"
   ]
  },
  {
   "cell_type": "code",
   "execution_count": 13,
   "id": "d11eae74-8cac-48c1-90f7-04e679ab87fe",
   "metadata": {},
   "outputs": [
    {
     "data": {
      "text/plain": [
       "-31736.07242590183"
      ]
     },
     "execution_count": 13,
     "metadata": {},
     "output_type": "execute_result"
    }
   ],
   "source": [
    "lr.intercept_"
   ]
  },
  {
   "cell_type": "markdown",
   "id": "9c567756-564b-4b8d-972b-99a2505c3b59",
   "metadata": {},
   "source": [
    "### LINE Assumptions\n",
    "___"
   ]
  },
  {
   "cell_type": "markdown",
   "id": "6440ef30-31e7-41c5-8f06-6e1620c7ad53",
   "metadata": {},
   "source": [
    "#### Linearity & Independence\n",
    "---"
   ]
  },
  {
   "cell_type": "markdown",
   "id": "bc9494e8-14c9-4028-b9ed-75c6896d5679",
   "metadata": {},
   "source": [
    "In the cleaning and EDA notebook, various plots were created to  show a linear relationship between various features and home price.  To keep this model simple and easily interpretable, only neighborhood, overall quality, and living room area were used. In the interpretability section of this notebook, coefficients of each feature are listed."
   ]
  },
  {
   "cell_type": "markdown",
   "id": "bf01924e-3eac-4d6e-971c-cc38867fd7b9",
   "metadata": {},
   "source": [
    "I hypothesize that this model is unable to meet the independence assumption.  WHile there aren't any dates listed, I asssume that these houses were sold at different points in time.  Therefore, they cannot meet the assumption of independence."
   ]
  },
  {
   "cell_type": "markdown",
   "id": "67984e26-5c80-4b27-965b-88e926c1b053",
   "metadata": {},
   "source": [
    "#### Normality\n",
    "___"
   ]
  },
  {
   "cell_type": "code",
   "execution_count": 14,
   "id": "c6fc7776-2366-400f-a452-536e1fa1ba1c",
   "metadata": {},
   "outputs": [
    {
     "data": {
      "image/png": "[encoded data removed]",
      "text/plain": [
       "<Figure size 640x480 with 1 Axes>"
      ]
     },
     "metadata": {},
     "output_type": "display_data"
    }
   ],
   "source": [
    "# I was confused about which set of data to use to check LINE assumptions because when\n",
    "# we talkked about this, it was done on an entire dataset.  We had not covered train/test/split\n",
    "# yet.  After talking with Alanna in flex time, we agreed it would work best to feed back\n",
    "# the entire data set into the model for LINE assumptions.\n",
    "# However, since the data was trained on transformed data, I went back to doing both the \n",
    "# train and test sets.  Enouugh data in both sets to see a normal curve if present.\n",
    "\n",
    "train_preds = lr.predict(X_train_ctx) \n",
    "train_resids = y_train - train_preds\n",
    "\n",
    "plt.hist(train_resids, bins = 20);"
   ]
  },
  {
   "cell_type": "code",
   "execution_count": 15,
   "id": "91f3b308-f515-4879-84b7-2f451fb8c567",
   "metadata": {},
   "outputs": [
    {
     "data": {
      "image/png": "[encoded data removed]",
      "text/plain": [
       "<Figure size 640x480 with 1 Axes>"
      ]
     },
     "metadata": {},
     "output_type": "display_data"
    }
   ],
   "source": [
    "test_preds = lr.predict(X_test_ctx)\n",
    "test_resids = y_test - test_preds\n",
    "\n",
    "plt.hist(test_resids, bins = 20);"
   ]
  },
  {
   "cell_type": "code",
   "execution_count": 16,
   "id": "586790dc-502b-47a2-a7d4-f5fab8e521ba",
   "metadata": {},
   "outputs": [
    {
     "data": {
      "image/png": "[encoded data removed]",
      "text/plain": [
       "<Figure size 640x480 with 1 Axes>"
      ]
     },
     "metadata": {},
     "output_type": "display_data"
    }
   ],
   "source": [
    "#I thought the QQ Plots Alanna showed us were insightful.\n",
    "sm.qqplot(train_resids,\n",
    "         dist= stats.norm,\n",
    "         line= 'q',)\n",
    "plt.title('train data normal q-q plot');"
   ]
  },
  {
   "cell_type": "code",
   "execution_count": 17,
   "id": "96a9fccc-ada8-4b14-a605-622f0ab18c08",
   "metadata": {},
   "outputs": [
    {
     "data": {
      "image/png": "[encoded data removed]",
      "text/plain": [
       "<Figure size 640x480 with 1 Axes>"
      ]
     },
     "metadata": {},
     "output_type": "display_data"
    }
   ],
   "source": [
    "sm.qqplot(test_resids,\n",
    "         dist= stats.norm,\n",
    "         line= 'q')\n",
    "plt.title(' test data normal q-q plot');"
   ]
  },
  {
   "cell_type": "markdown",
   "id": "dc94f1ef-6a8f-48ad-b99b-88349637b0ff",
   "metadata": {},
   "source": [
    "Plots show that for the most part, the residuals show a pattern of normality."
   ]
  },
  {
   "cell_type": "markdown",
   "id": "5d5ee7e2-3b22-43e3-b120-2c051cdd65eb",
   "metadata": {},
   "source": [
    "#### Equal Variances\n",
    "___"
   ]
  },
  {
   "cell_type": "code",
   "execution_count": 1,
   "id": "7bda2c69-7324-4428-be5e-09c0b3e301da",
   "metadata": {},
   "outputs": [
    {
     "ename": "NameError",
     "evalue": "name 'plt' is not defined",
     "output_type": "error",
     "traceback": [
      "\u001b[1;31m---------------------------------------------------------------------------\u001b[0m",
      "\u001b[1;31mNameError\u001b[0m                                 Traceback (most recent call last)",
      "Cell \u001b[1;32mIn[1], line 1\u001b[0m\n\u001b[1;32m----> 1\u001b[0m plt\u001b[38;5;241m.\u001b[39mscatter(train_preds, train_resids)\n\u001b[0;32m      2\u001b[0m plt\u001b[38;5;241m.\u001b[39maxhline(\u001b[38;5;241m0\u001b[39m, color \u001b[38;5;241m=\u001b[39m \u001b[38;5;124m'\u001b[39m\u001b[38;5;124mxkcd:brick orange\u001b[39m\u001b[38;5;124m'\u001b[39m)\n\u001b[0;32m      3\u001b[0m plt\u001b[38;5;241m.\u001b[39mxlabel(\u001b[38;5;124m'\u001b[39m\u001b[38;5;124mTrain Predictions\u001b[39m\u001b[38;5;124m'\u001b[39m)\n",
      "\u001b[1;31mNameError\u001b[0m: name 'plt' is not defined"
     ]
    }
   ],
   "source": [
    "plt.scatter(train_preds, train_resids)\n",
    "plt.axhline(0, color = 'xkcd:brick orange')\n",
    "plt.xlabel('Train Predictions')\n",
    "plt.ylabel('Train Residuals')\n",
    "plt.title('Train Predictions vs Residuals');"
   ]
  },
  {
   "cell_type": "code",
   "execution_count": 19,
   "id": "10330699-c4dd-46b1-a1f7-08eb9811d141",
   "metadata": {},
   "outputs": [
    {
     "data": {
      "image/png": "[encoded data removed]",
      "text/plain": [
       "<Figure size 640x480 with 1 Axes>"
      ]
     },
     "metadata": {},
     "output_type": "display_data"
    }
   ],
   "source": [
    "plt.scatter(test_preds, test_resids)\n",
    "plt.axhline(0, color = 'xkcd:brick orange')\n",
    "plt.xlabel('Test Predictions')\n",
    "plt.ylabel('Test Residuals')\n",
    "plt.title('Test Prections vs Residuals');"
   ]
  },
  {
   "cell_type": "markdown",
   "id": "f0defdef-ab79-459c-bde6-a29e7d8ec02a",
   "metadata": {},
   "source": [
    "There looks to be variance in the middle part of the plot, but it doesn't maintain on the low and a bit of the high end."
   ]
  },
  {
   "cell_type": "markdown",
   "id": "b04b727a-6d26-4131-ad1c-3cb20ea3ba83",
   "metadata": {},
   "source": [
    "### Model Tuning - Regularization\n",
    "---"
   ]
  },
  {
   "cell_type": "markdown",
   "id": "7139bc60-240d-4363-bc99-842397b3d8ea",
   "metadata": {},
   "source": [
    "#### Ridge Regression"
   ]
  },
  {
   "cell_type": "markdown",
   "id": "2821f6da-45dd-4412-b730-1e32b8017b39",
   "metadata": {},
   "source": [
    "Several iterations using both np.inspace and np.logspace indicatethat the best alpha value to use is ~0.92.  However, the R2 score doesn't change much.  Not using these since the model must be interpretable."
   ]
  },
  {
   "cell_type": "code",
   "execution_count": 20,
   "id": "f4d2a23e-5e0b-4dee-b60f-abc2b7e9fe2d",
   "metadata": {},
   "outputs": [
    {
     "data": {
      "text/html": [
       "<style>#sk-container-id-2 {color: black;background-color: white;}#sk-container-id-2 pre{padding: 0;}#sk-container-id-2 div.sk-toggleable {background-color: white;}#sk-container-id-2 label.sk-toggleable__label {cursor: pointer;display: block;width: 100%;margin-bottom: 0;padding: 0.3em;box-sizing: border-box;text-align: center;}#sk-container-id-2 label.sk-toggleable__label-arrow:before {content: \"▸\";float: left;margin-right: 0.25em;color: #696969;}#sk-container-id-2 label.sk-toggleable__label-arrow:hover:before {color: black;}#sk-container-id-2 div.sk-estimator:hover label.sk-toggleable__label-arrow:before {color: black;}#sk-container-id-2 div.sk-toggleable__content {max-height: 0;max-width: 0;overflow: hidden;text-align: left;background-color: #f0f8ff;}#sk-container-id-2 div.sk-toggleable__content pre {margin: 0.2em;color: black;border-radius: 0.25em;background-color: #f0f8ff;}#sk-container-id-2 input.sk-toggleable__control:checked~div.sk-toggleable__content {max-height: 200px;max-width: 100%;overflow: auto;}#sk-container-id-2 input.sk-toggleable__control:checked~label.sk-toggleable__label-arrow:before {content: \"▾\";}#sk-container-id-2 div.sk-estimator input.sk-toggleable__control:checked~label.sk-toggleable__label {background-color: #d4ebff;}#sk-container-id-2 div.sk-label input.sk-toggleable__control:checked~label.sk-toggleable__label {background-color: #d4ebff;}#sk-container-id-2 input.sk-hidden--visually {border: 0;clip: rect(1px 1px 1px 1px);clip: rect(1px, 1px, 1px, 1px);height: 1px;margin: -1px;overflow: hidden;padding: 0;position: absolute;width: 1px;}#sk-container-id-2 div.sk-estimator {font-family: monospace;background-color: #f0f8ff;border: 1px dotted black;border-radius: 0.25em;box-sizing: border-box;margin-bottom: 0.5em;}#sk-container-id-2 div.sk-estimator:hover {background-color: #d4ebff;}#sk-container-id-2 div.sk-parallel-item::after {content: \"\";width: 100%;border-bottom: 1px solid gray;flex-grow: 1;}#sk-container-id-2 div.sk-label:hover label.sk-toggleable__label {background-color: #d4ebff;}#sk-container-id-2 div.sk-serial::before {content: \"\";position: absolute;border-left: 1px solid gray;box-sizing: border-box;top: 0;bottom: 0;left: 50%;z-index: 0;}#sk-container-id-2 div.sk-serial {display: flex;flex-direction: column;align-items: center;background-color: white;padding-right: 0.2em;padding-left: 0.2em;position: relative;}#sk-container-id-2 div.sk-item {position: relative;z-index: 1;}#sk-container-id-2 div.sk-parallel {display: flex;align-items: stretch;justify-content: center;background-color: white;position: relative;}#sk-container-id-2 div.sk-item::before, #sk-container-id-2 div.sk-parallel-item::before {content: \"\";position: absolute;border-left: 1px solid gray;box-sizing: border-box;top: 0;bottom: 0;left: 50%;z-index: -1;}#sk-container-id-2 div.sk-parallel-item {display: flex;flex-direction: column;z-index: 1;position: relative;background-color: white;}#sk-container-id-2 div.sk-parallel-item:first-child::after {align-self: flex-end;width: 50%;}#sk-container-id-2 div.sk-parallel-item:last-child::after {align-self: flex-start;width: 50%;}#sk-container-id-2 div.sk-parallel-item:only-child::after {width: 0;}#sk-container-id-2 div.sk-dashed-wrapped {border: 1px dashed gray;margin: 0 0.4em 0.5em 0.4em;box-sizing: border-box;padding-bottom: 0.4em;background-color: white;}#sk-container-id-2 div.sk-label label {font-family: monospace;font-weight: bold;display: inline-block;line-height: 1.2em;}#sk-container-id-2 div.sk-label-container {text-align: center;}#sk-container-id-2 div.sk-container {/* jupyter's `normalize.less` sets `[hidden] { display: none; }` but bootstrap.min.css set `[hidden] { display: none !important; }` so we also need the `!important` here to be able to override the default hidden behavior on the sphinx rendered scikit-learn.org. See: https://github.com/scikit-learn/scikit-learn/issues/21755 */display: inline-block !important;position: relative;}#sk-container-id-2 div.sk-text-repr-fallback {display: none;}</style><div id=\"sk-container-id-2\" class=\"sk-top-container\"><div class=\"sk-text-repr-fallback\"><pre>RidgeCV(alphas=array([ 0.1       ,  0.10990991,  0.11981982,  0.12972973,  0.13963964,\n",
       "        0.14954955,  0.15945946,  0.16936937,  0.17927928,  0.18918919,\n",
       "        0.1990991 ,  0.20900901,  0.21891892,  0.22882883,  0.23873874,\n",
       "        0.24864865,  0.25855856,  0.26846847,  0.27837838,  0.28828829,\n",
       "        0.2981982 ,  0.30810811,  0.31801802,  0.32792793,  0.33783784,\n",
       "        0.34774775,  0.35765766,  0.36756757,  0.37747748,  0.38738739,\n",
       "        0.39729...\n",
       "        9.66306306,  9.67297297,  9.68288288,  9.69279279,  9.7027027 ,\n",
       "        9.71261261,  9.72252252,  9.73243243,  9.74234234,  9.75225225,\n",
       "        9.76216216,  9.77207207,  9.78198198,  9.79189189,  9.8018018 ,\n",
       "        9.81171171,  9.82162162,  9.83153153,  9.84144144,  9.85135135,\n",
       "        9.86126126,  9.87117117,  9.88108108,  9.89099099,  9.9009009 ,\n",
       "        9.91081081,  9.92072072,  9.93063063,  9.94054054,  9.95045045,\n",
       "        9.96036036,  9.97027027,  9.98018018,  9.99009009, 10.        ]),\n",
       "        cv=5)</pre><b>In a Jupyter environment, please rerun this cell to show the HTML representation or trust the notebook. <br />On GitHub, the HTML representation is unable to render, please try loading this page with nbviewer.org.</b></div><div class=\"sk-container\" hidden><div class=\"sk-item\"><div class=\"sk-estimator sk-toggleable\"><input class=\"sk-toggleable__control sk-hidden--visually\" id=\"sk-estimator-id-2\" type=\"checkbox\" checked><label for=\"sk-estimator-id-2\" class=\"sk-toggleable__label sk-toggleable__label-arrow\">RidgeCV</label><div class=\"sk-toggleable__content\"><pre>RidgeCV(alphas=array([ 0.1       ,  0.10990991,  0.11981982,  0.12972973,  0.13963964,\n",
       "        0.14954955,  0.15945946,  0.16936937,  0.17927928,  0.18918919,\n",
       "        0.1990991 ,  0.20900901,  0.21891892,  0.22882883,  0.23873874,\n",
       "        0.24864865,  0.25855856,  0.26846847,  0.27837838,  0.28828829,\n",
       "        0.2981982 ,  0.30810811,  0.31801802,  0.32792793,  0.33783784,\n",
       "        0.34774775,  0.35765766,  0.36756757,  0.37747748,  0.38738739,\n",
       "        0.39729...\n",
       "        9.66306306,  9.67297297,  9.68288288,  9.69279279,  9.7027027 ,\n",
       "        9.71261261,  9.72252252,  9.73243243,  9.74234234,  9.75225225,\n",
       "        9.76216216,  9.77207207,  9.78198198,  9.79189189,  9.8018018 ,\n",
       "        9.81171171,  9.82162162,  9.83153153,  9.84144144,  9.85135135,\n",
       "        9.86126126,  9.87117117,  9.88108108,  9.89099099,  9.9009009 ,\n",
       "        9.91081081,  9.92072072,  9.93063063,  9.94054054,  9.95045045,\n",
       "        9.96036036,  9.97027027,  9.98018018,  9.99009009, 10.        ]),\n",
       "        cv=5)</pre></div></div></div></div></div>"
      ],
      "text/plain": [
       "RidgeCV(alphas=array([ 0.1       ,  0.10990991,  0.11981982,  0.12972973,  0.13963964,\n",
       "        0.14954955,  0.15945946,  0.16936937,  0.17927928,  0.18918919,\n",
       "        0.1990991 ,  0.20900901,  0.21891892,  0.22882883,  0.23873874,\n",
       "        0.24864865,  0.25855856,  0.26846847,  0.27837838,  0.28828829,\n",
       "        0.2981982 ,  0.30810811,  0.31801802,  0.32792793,  0.33783784,\n",
       "        0.34774775,  0.35765766,  0.36756757,  0.37747748,  0.38738739,\n",
       "        0.39729...\n",
       "        9.66306306,  9.67297297,  9.68288288,  9.69279279,  9.7027027 ,\n",
       "        9.71261261,  9.72252252,  9.73243243,  9.74234234,  9.75225225,\n",
       "        9.76216216,  9.77207207,  9.78198198,  9.79189189,  9.8018018 ,\n",
       "        9.81171171,  9.82162162,  9.83153153,  9.84144144,  9.85135135,\n",
       "        9.86126126,  9.87117117,  9.88108108,  9.89099099,  9.9009009 ,\n",
       "        9.91081081,  9.92072072,  9.93063063,  9.94054054,  9.95045045,\n",
       "        9.96036036,  9.97027027,  9.98018018,  9.99009009, 10.        ]),\n",
       "        cv=5)"
      ]
     },
     "execution_count": 20,
     "metadata": {},
     "output_type": "execute_result"
    }
   ],
   "source": [
    "# Setting up a list of ridge alphas to check \n",
    "alphas = np.linspace(0.1, 10, 1000)\n",
    "\n",
    "#Cross validation\n",
    "ridge_cv = RidgeCV(alphas = alphas, cv = 5)\n",
    "\n",
    "#Fit using best ridge alpha value\n",
    "ridge_cv.fit(X_train_ctx, y_train)\n"
   ]
  },
  {
   "cell_type": "code",
   "execution_count": 21,
   "id": "08db3f4c-316a-4af0-84f6-46e24f1dcef6",
   "metadata": {},
   "outputs": [
    {
     "data": {
      "text/plain": [
       "0.9225225225225226"
      ]
     },
     "execution_count": 21,
     "metadata": {},
     "output_type": "execute_result"
    }
   ],
   "source": [
    "ridge_cv.alpha_"
   ]
  },
  {
   "cell_type": "code",
   "execution_count": 22,
   "id": "4288ac7a-4f02-496c-9c1c-a4ecb2850aa3",
   "metadata": {},
   "outputs": [
    {
     "data": {
      "text/plain": [
       "0.7743213689570891"
      ]
     },
     "execution_count": 22,
     "metadata": {},
     "output_type": "execute_result"
    }
   ],
   "source": [
    "ridge_cv.best_score_"
   ]
  },
  {
   "cell_type": "code",
   "execution_count": 23,
   "id": "5f46556b-162f-4984-b3bd-a1367a3707cf",
   "metadata": {},
   "outputs": [
    {
     "name": "stdout",
     "output_type": "stream",
     "text": [
      "Training score with ridge cv: 0.7860604326131654\n",
      "Testing score with ridge cv: 0.8397416032438019\n"
     ]
    }
   ],
   "source": [
    "print(f'Training score with ridge cv: {ridge_cv.score(X_train_ctx, y_train)}')\n",
    "# Different than .best_score_ because this is using the entire training set, not just a fold from\n",
    "print(f'Testing score with ridge cv: {ridge_cv.score(X_test_ctx, y_test)}')"
   ]
  },
  {
   "cell_type": "markdown",
   "id": "a0d8f334-0bbc-4bb4-bdab-611f276e3eb5",
   "metadata": {},
   "source": [
    "#### Lasso Regression"
   ]
  },
  {
   "cell_type": "markdown",
   "id": "a20925d4-556c-4c26-8e56-fe3bdadc3afa",
   "metadata": {},
   "source": [
    "After running several iterations of np.linspace and np.logspace, alpha value of ~2.22 is considered the best. Again, not using since the model must be interpretable."
   ]
  },
  {
   "cell_type": "code",
   "execution_count": 24,
   "id": "766c0246-8c2d-484f-8122-ac683f1922b6",
   "metadata": {
    "scrolled": true
   },
   "outputs": [
    {
     "data": {
      "text/html": [
       "<style>#sk-container-id-3 {color: black;background-color: white;}#sk-container-id-3 pre{padding: 0;}#sk-container-id-3 div.sk-toggleable {background-color: white;}#sk-container-id-3 label.sk-toggleable__label {cursor: pointer;display: block;width: 100%;margin-bottom: 0;padding: 0.3em;box-sizing: border-box;text-align: center;}#sk-container-id-3 label.sk-toggleable__label-arrow:before {content: \"▸\";float: left;margin-right: 0.25em;color: #696969;}#sk-container-id-3 label.sk-toggleable__label-arrow:hover:before {color: black;}#sk-container-id-3 div.sk-estimator:hover label.sk-toggleable__label-arrow:before {color: black;}#sk-container-id-3 div.sk-toggleable__content {max-height: 0;max-width: 0;overflow: hidden;text-align: left;background-color: #f0f8ff;}#sk-container-id-3 div.sk-toggleable__content pre {margin: 0.2em;color: black;border-radius: 0.25em;background-color: #f0f8ff;}#sk-container-id-3 input.sk-toggleable__control:checked~div.sk-toggleable__content {max-height: 200px;max-width: 100%;overflow: auto;}#sk-container-id-3 input.sk-toggleable__control:checked~label.sk-toggleable__label-arrow:before {content: \"▾\";}#sk-container-id-3 div.sk-estimator input.sk-toggleable__control:checked~label.sk-toggleable__label {background-color: #d4ebff;}#sk-container-id-3 div.sk-label input.sk-toggleable__control:checked~label.sk-toggleable__label {background-color: #d4ebff;}#sk-container-id-3 input.sk-hidden--visually {border: 0;clip: rect(1px 1px 1px 1px);clip: rect(1px, 1px, 1px, 1px);height: 1px;margin: -1px;overflow: hidden;padding: 0;position: absolute;width: 1px;}#sk-container-id-3 div.sk-estimator {font-family: monospace;background-color: #f0f8ff;border: 1px dotted black;border-radius: 0.25em;box-sizing: border-box;margin-bottom: 0.5em;}#sk-container-id-3 div.sk-estimator:hover {background-color: #d4ebff;}#sk-container-id-3 div.sk-parallel-item::after {content: \"\";width: 100%;border-bottom: 1px solid gray;flex-grow: 1;}#sk-container-id-3 div.sk-label:hover label.sk-toggleable__label {background-color: #d4ebff;}#sk-container-id-3 div.sk-serial::before {content: \"\";position: absolute;border-left: 1px solid gray;box-sizing: border-box;top: 0;bottom: 0;left: 50%;z-index: 0;}#sk-container-id-3 div.sk-serial {display: flex;flex-direction: column;align-items: center;background-color: white;padding-right: 0.2em;padding-left: 0.2em;position: relative;}#sk-container-id-3 div.sk-item {position: relative;z-index: 1;}#sk-container-id-3 div.sk-parallel {display: flex;align-items: stretch;justify-content: center;background-color: white;position: relative;}#sk-container-id-3 div.sk-item::before, #sk-container-id-3 div.sk-parallel-item::before {content: \"\";position: absolute;border-left: 1px solid gray;box-sizing: border-box;top: 0;bottom: 0;left: 50%;z-index: -1;}#sk-container-id-3 div.sk-parallel-item {display: flex;flex-direction: column;z-index: 1;position: relative;background-color: white;}#sk-container-id-3 div.sk-parallel-item:first-child::after {align-self: flex-end;width: 50%;}#sk-container-id-3 div.sk-parallel-item:last-child::after {align-self: flex-start;width: 50%;}#sk-container-id-3 div.sk-parallel-item:only-child::after {width: 0;}#sk-container-id-3 div.sk-dashed-wrapped {border: 1px dashed gray;margin: 0 0.4em 0.5em 0.4em;box-sizing: border-box;padding-bottom: 0.4em;background-color: white;}#sk-container-id-3 div.sk-label label {font-family: monospace;font-weight: bold;display: inline-block;line-height: 1.2em;}#sk-container-id-3 div.sk-label-container {text-align: center;}#sk-container-id-3 div.sk-container {/* jupyter's `normalize.less` sets `[hidden] { display: none; }` but bootstrap.min.css set `[hidden] { display: none !important; }` so we also need the `!important` here to be able to override the default hidden behavior on the sphinx rendered scikit-learn.org. See: https://github.com/scikit-learn/scikit-learn/issues/21755 */display: inline-block !important;position: relative;}#sk-container-id-3 div.sk-text-repr-fallback {display: none;}</style><div id=\"sk-container-id-3\" class=\"sk-top-container\"><div class=\"sk-text-repr-fallback\"><pre>LassoCV(alphas=array([1.        , 1.002002  , 1.004004  , 1.00600601, 1.00800801,\n",
       "       1.01001001, 1.01201201, 1.01401401, 1.01601602, 1.01801802,\n",
       "       1.02002002, 1.02202202, 1.02402402, 1.02602603, 1.02802803,\n",
       "       1.03003003, 1.03203203, 1.03403403, 1.03603604, 1.03803804,\n",
       "       1.04004004, 1.04204204, 1.04404404, 1.04604605, 1.04804805,\n",
       "       1.05005005, 1.05205205, 1.05405405, 1.05605606, 1.05805806,\n",
       "       1.06006006...\n",
       "       2.93193193, 2.93393393, 2.93593594, 2.93793794, 2.93993994,\n",
       "       2.94194194, 2.94394394, 2.94594595, 2.94794795, 2.94994995,\n",
       "       2.95195195, 2.95395395, 2.95595596, 2.95795796, 2.95995996,\n",
       "       2.96196196, 2.96396396, 2.96596597, 2.96796797, 2.96996997,\n",
       "       2.97197197, 2.97397397, 2.97597598, 2.97797798, 2.97997998,\n",
       "       2.98198198, 2.98398398, 2.98598599, 2.98798799, 2.98998999,\n",
       "       2.99199199, 2.99399399, 2.995996  , 2.997998  , 3.        ]))</pre><b>In a Jupyter environment, please rerun this cell to show the HTML representation or trust the notebook. <br />On GitHub, the HTML representation is unable to render, please try loading this page with nbviewer.org.</b></div><div class=\"sk-container\" hidden><div class=\"sk-item\"><div class=\"sk-estimator sk-toggleable\"><input class=\"sk-toggleable__control sk-hidden--visually\" id=\"sk-estimator-id-3\" type=\"checkbox\" checked><label for=\"sk-estimator-id-3\" class=\"sk-toggleable__label sk-toggleable__label-arrow\">LassoCV</label><div class=\"sk-toggleable__content\"><pre>LassoCV(alphas=array([1.        , 1.002002  , 1.004004  , 1.00600601, 1.00800801,\n",
       "       1.01001001, 1.01201201, 1.01401401, 1.01601602, 1.01801802,\n",
       "       1.02002002, 1.02202202, 1.02402402, 1.02602603, 1.02802803,\n",
       "       1.03003003, 1.03203203, 1.03403403, 1.03603604, 1.03803804,\n",
       "       1.04004004, 1.04204204, 1.04404404, 1.04604605, 1.04804805,\n",
       "       1.05005005, 1.05205205, 1.05405405, 1.05605606, 1.05805806,\n",
       "       1.06006006...\n",
       "       2.93193193, 2.93393393, 2.93593594, 2.93793794, 2.93993994,\n",
       "       2.94194194, 2.94394394, 2.94594595, 2.94794795, 2.94994995,\n",
       "       2.95195195, 2.95395395, 2.95595596, 2.95795796, 2.95995996,\n",
       "       2.96196196, 2.96396396, 2.96596597, 2.96796797, 2.96996997,\n",
       "       2.97197197, 2.97397397, 2.97597598, 2.97797798, 2.97997998,\n",
       "       2.98198198, 2.98398398, 2.98598599, 2.98798799, 2.98998999,\n",
       "       2.99199199, 2.99399399, 2.995996  , 2.997998  , 3.        ]))</pre></div></div></div></div></div>"
      ],
      "text/plain": [
       "LassoCV(alphas=array([1.        , 1.002002  , 1.004004  , 1.00600601, 1.00800801,\n",
       "       1.01001001, 1.01201201, 1.01401401, 1.01601602, 1.01801802,\n",
       "       1.02002002, 1.02202202, 1.02402402, 1.02602603, 1.02802803,\n",
       "       1.03003003, 1.03203203, 1.03403403, 1.03603604, 1.03803804,\n",
       "       1.04004004, 1.04204204, 1.04404404, 1.04604605, 1.04804805,\n",
       "       1.05005005, 1.05205205, 1.05405405, 1.05605606, 1.05805806,\n",
       "       1.06006006...\n",
       "       2.93193193, 2.93393393, 2.93593594, 2.93793794, 2.93993994,\n",
       "       2.94194194, 2.94394394, 2.94594595, 2.94794795, 2.94994995,\n",
       "       2.95195195, 2.95395395, 2.95595596, 2.95795796, 2.95995996,\n",
       "       2.96196196, 2.96396396, 2.96596597, 2.96796797, 2.96996997,\n",
       "       2.97197197, 2.97397397, 2.97597598, 2.97797798, 2.97997998,\n",
       "       2.98198198, 2.98398398, 2.98598599, 2.98798799, 2.98998999,\n",
       "       2.99199199, 2.99399399, 2.995996  , 2.997998  , 3.        ]))"
      ]
     },
     "execution_count": 24,
     "metadata": {},
     "output_type": "execute_result"
    }
   ],
   "source": [
    "#Lasso alphas to check\n",
    "l_alphas = np.linspace(1, 3, 1000)\n",
    "\n",
    "#Cross validation\n",
    "lasso_cv = LassoCV(alphas = l_alphas)\n",
    "\n",
    "#Fit model\n",
    "lasso_cv.fit(X_train_ctx, y_train)"
   ]
  },
  {
   "cell_type": "code",
   "execution_count": 25,
   "id": "49e36e53-84fc-46f7-a288-35a0f2115335",
   "metadata": {},
   "outputs": [
    {
     "data": {
      "text/plain": [
       "2.2272272272272273"
      ]
     },
     "execution_count": 25,
     "metadata": {},
     "output_type": "execute_result"
    }
   ],
   "source": [
    "lasso_cv.alpha_"
   ]
  },
  {
   "cell_type": "code",
   "execution_count": 26,
   "id": "db880312-e308-4b88-ad51-17cf421f874b",
   "metadata": {},
   "outputs": [
    {
     "name": "stdout",
     "output_type": "stream",
     "text": [
      "0.7863266516684299\n",
      "0.8396050462830735\n"
     ]
    }
   ],
   "source": [
    "print(lasso_cv.score(X_train_ctx, y_train))\n",
    "print(lasso_cv.score(X_test_ctx, y_test))"
   ]
  },
  {
   "cell_type": "code",
   "execution_count": 27,
   "id": "8be6d6b1-6d3e-4167-8f1c-4e2ff567522d",
   "metadata": {},
   "outputs": [
    {
     "data": {
      "text/plain": [
       "array([-2.65217630e+04, -4.63171922e+04, -1.93299479e+04,  2.05387917e+04,\n",
       "        1.03005244e+04,  1.36867638e+04, -1.98430943e+04, -4.73068768e+03,\n",
       "       -0.00000000e+00,  8.42837232e+04, -3.06282853e+04, -2.76586000e+04,\n",
       "       -2.48909503e+04,  6.15729134e+03, -5.08866328e+03, -2.82718113e+04,\n",
       "       -4.65283334e+03,  5.36722255e+04,  7.01220915e+04, -3.35972486e+04,\n",
       "       -3.35567014e+04, -3.94512830e+03, -6.60005560e+03,  1.56831172e+04,\n",
       "        7.57271652e+04,  2.98765592e+04,  2.43000840e+04,  5.36884929e+01,\n",
       "        2.17049053e+04])"
      ]
     },
     "execution_count": 27,
     "metadata": {},
     "output_type": "execute_result"
    }
   ],
   "source": [
    "lasso_cv.coef_"
   ]
  }
 ],
 "metadata": {
  "kernelspec": {
   "display_name": "Python 3 (ipykernel)",
   "language": "python",
   "name": "python3"
  },
  "language_info": {
   "codemirror_mode": {
    "name": "ipython",
    "version": 3
   },
   "file_extension": ".py",
   "mimetype": "text/x-python",
   "name": "python",
   "nbconvert_exporter": "python",
   "pygments_lexer": "ipython3",
   "version": "3.11.7"
  }
 },
 "nbformat": 4,
 "nbformat_minor": 5
}
