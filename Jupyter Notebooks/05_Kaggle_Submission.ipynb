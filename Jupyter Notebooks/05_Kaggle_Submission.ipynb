{
 "cells": [
  {
   "cell_type": "markdown",
   "id": "b204d425-bb0e-4d16-8f78-bdacd8e24c03",
   "metadata": {},
   "source": [
    "# Kaggle Submission\n"
   ]
  },
  {
   "cell_type": "markdown",
   "id": "eba56c9f-bf57-4087-b168-5e2e2f3dccbc",
   "metadata": {},
   "source": [
    "### Contents:\n",
    "- [Setup & Train/Test/Split](#Setup-&-Train/Test/Split)\n",
    "- [Base Model](#Base-Model)\n",
    "- [Data Transformation](#Data-Transformation)\n",
    "- [Model Fitting!](#Model-Fitting!)\n",
    "- [Create Kaggle Submission File](#Create-Kaggle-Submission-File)"
   ]
  },
  {
   "cell_type": "markdown",
   "id": "e5e73709-0383-4d6b-b7ee-177b70eacac0",
   "metadata": {},
   "source": [
    "### Setup & Train/Test/Split\n",
    "---"
   ]
  },
  {
   "cell_type": "code",
   "execution_count": 1,
   "id": "af61d3a8-4e7a-47ca-838c-0752e9389bd0",
   "metadata": {},
   "outputs": [],
   "source": [
    "#Library Imports\n",
    "import pandas as pd\n",
    "import numpy as np\n",
    "from sklearn.preprocessing import OneHotEncoder, StandardScaler, PolynomialFeatures\n",
    "from sklearn.compose import ColumnTransformer\n",
    "from sklearn.impute import SimpleImputer\n",
    "from sklearn.model_selection import train_test_split, cross_val_score\n",
    "from sklearn.linear_model import LinearRegression\n",
    "from sklearn.metrics import r2_score"
   ]
  },
  {
   "cell_type": "code",
   "execution_count": 2,
   "id": "9e0dda4c-4ce6-43ec-9d49-d02d3f5f93d1",
   "metadata": {},
   "outputs": [],
   "source": [
    "#Read in relevant csvs\n",
    "train_clean = pd.read_csv('../datasets/train_clean.csv')\n",
    "validate_clean = pd.read_csv('../datasets/validate_clean.csv')"
   ]
  },
  {
   "cell_type": "code",
   "execution_count": 3,
   "id": "89b6bb74-00f4-4286-9b9e-6fe051cabd6e",
   "metadata": {},
   "outputs": [],
   "source": [
    "#Interaction terms code\n",
    "\n",
    "train_clean['kitchen_qual * overall_qual * exter_qual'] = train_clean['kitchen_qual'] * train_clean['overall_qual'] * train_clean['exter_qual']\n",
    "validate_clean['kitchen_qual * overall_qual * exter_qual'] = validate_clean['kitchen_qual'] * validate_clean['overall_qual'] * validate_clean['exter_qual']"
   ]
  },
  {
   "cell_type": "code",
   "execution_count": 4,
   "id": "d63aef44-e096-4727-89b9-f174ba99cbe9",
   "metadata": {},
   "outputs": [],
   "source": [
    "#Features in use\n",
    "features = ['neighborhood',\n",
    "            'overall_cond',\n",
    "            'bldg_type',\n",
    "            'kitchen_qual',\n",
    "            'central_air',\n",
    "            'gr_liv_area',\n",
    "            'garage_area',\n",
    "            'total_bsmt_sf',\n",
    "            '1st_flr_sf',\n",
    "            'kitchen_qual * overall_qual * exter_qual',\n",
    "            'bedroom_abvgr',\n",
    "            'overall_qual',\n",
    "            'exter_qual',\n",
    "            'year_built']"
   ]
  },
  {
   "cell_type": "code",
   "execution_count": 5,
   "id": "8bc67258-5991-4cac-b9a7-4b19e5b94ebd",
   "metadata": {},
   "outputs": [],
   "source": [
    "#Test/Train Data\n",
    "X = train_clean[features]\n",
    "y = train_clean['saleprice']\n",
    "\n",
    "#Validate Data\n",
    "val = validate_clean[features]\n",
    "\n",
    "#Train/Test/Split\n",
    "X_train, X_test, y_train, y_test = train_test_split(X, y, random_state = 24)"
   ]
  },
  {
   "cell_type": "code",
   "execution_count": 6,
   "id": "7b45aea0-64ed-46da-8cdc-3fb0e78bc8b7",
   "metadata": {},
   "outputs": [
    {
     "data": {
      "text/plain": [
       "((2051,), (2051, 14))"
      ]
     },
     "execution_count": 6,
     "metadata": {},
     "output_type": "execute_result"
    }
   ],
   "source": [
    "y.shape, X.shape"
   ]
  },
  {
   "cell_type": "markdown",
   "id": "2646be13-eb93-47e3-844c-68c458ef659c",
   "metadata": {},
   "source": [
    "### Base Model\n",
    "---"
   ]
  },
  {
   "cell_type": "code",
   "execution_count": 7,
   "id": "fec6a699-ac89-47a5-b3a3-3970e88b2764",
   "metadata": {},
   "outputs": [],
   "source": [
    "null_values = [y_train.mean()] * len(y_test)"
   ]
  },
  {
   "cell_type": "code",
   "execution_count": 8,
   "id": "dd886637-7502-440f-ae9c-87ca378445de",
   "metadata": {},
   "outputs": [
    {
     "data": {
      "text/plain": [
       "-0.0003395859087844677"
      ]
     },
     "execution_count": 8,
     "metadata": {},
     "output_type": "execute_result"
    }
   ],
   "source": [
    "r2_score(y_test,null_values)"
   ]
  },
  {
   "cell_type": "markdown",
   "id": "24e07cb3-0635-4d7d-9039-477d4625ccfe",
   "metadata": {},
   "source": [
    "### Data Transformation\n",
    "---"
   ]
  },
  {
   "cell_type": "code",
   "execution_count": 9,
   "id": "f28cbc0a-27f4-423c-9c4a-4cd3a7332aef",
   "metadata": {},
   "outputs": [
    {
     "name": "stderr",
     "output_type": "stream",
     "text": [
      "C:\\Users\\khalb\\AppData\\Local\\Temp\\ipykernel_3192\\3575466103.py:7: SettingWithCopyWarning: \n",
      "A value is trying to be set on a copy of a slice from a DataFrame.\n",
      "Try using .loc[row_indexer,col_indexer] = value instead\n",
      "\n",
      "See the caveats in the documentation: https://pandas.pydata.org/pandas-docs/stable/user_guide/indexing.html#returning-a-view-versus-a-copy\n",
      "  val[imputefeatures] = si.transform(val[imputefeatures])\n"
     ]
    }
   ],
   "source": [
    "# Simple Imputing\n",
    "si = SimpleImputer(strategy = 'most_frequent').set_output(transform = 'pandas')\n",
    "imputefeatures = ['bedroom_abvgr']\n",
    "\n",
    "X_train[imputefeatures] = si.fit_transform(X_train[imputefeatures])\n",
    "X_test[imputefeatures] = si.transform(X_test[imputefeatures])\n",
    "val[imputefeatures] = si.transform(val[imputefeatures])"
   ]
  },
  {
   "cell_type": "code",
   "execution_count": 10,
   "id": "45746441-ec88-4f7c-b3f8-0143b3d241ed",
   "metadata": {},
   "outputs": [],
   "source": [
    "#Transform the data with ColumnTransformer\n",
    "ohe = OneHotEncoder(drop = 'first',\n",
    "                    handle_unknown = 'ignore',\n",
    "                    sparse_output = False)\n",
    "\n",
    "ctx = ColumnTransformer(\n",
    "    transformers =[\n",
    "        ('one_hot', ohe, ['neighborhood', 'bldg_type']),\n",
    "        ('ss', StandardScaler(), ['bedroom_abvgr', '1st_flr_sf', 'garage_area', 'total_bsmt_sf'])\n",
    "    ], remainder = 'passthrough',\n",
    "    verbose_feature_names_out = False\n",
    ")"
   ]
  },
  {
   "cell_type": "code",
   "execution_count": 11,
   "id": "7172fab2-6fdd-4396-a7c9-c3b4fd672596",
   "metadata": {},
   "outputs": [],
   "source": [
    "#Fit and transform the training set\n",
    "X_train_ctx = pd.DataFrame(ctx.fit_transform(X_train),\n",
    "                           columns = ctx.get_feature_names_out())\n",
    "\n",
    "X_test_ctx = pd.DataFrame(ctx.transform(X_test),\n",
    "                           columns = ctx.get_feature_names_out())\n",
    "\n",
    "#Transform the  validation data\n",
    "val_enc = pd.DataFrame(ctx.transform(val),\n",
    "                           columns = ctx.get_feature_names_out())"
   ]
  },
  {
   "cell_type": "markdown",
   "id": "4a565bd5-261a-48a2-bcdb-8c31c6c3b39a",
   "metadata": {},
   "source": [
    "### Model Fitting!\n",
    "---"
   ]
  },
  {
   "cell_type": "code",
   "execution_count": 12,
   "id": "357857ec-9ea8-4b37-9810-2e0ca5010e26",
   "metadata": {},
   "outputs": [],
   "source": [
    "#Instantiate Linear Regression Model\n",
    "lr = LinearRegression()"
   ]
  },
  {
   "cell_type": "code",
   "execution_count": 13,
   "id": "68bd25da-6f8f-4d07-9686-41a8ff508cd0",
   "metadata": {},
   "outputs": [
    {
     "data": {
      "text/html": [
       "<style>#sk-container-id-1 {color: black;background-color: white;}#sk-container-id-1 pre{padding: 0;}#sk-container-id-1 div.sk-toggleable {background-color: white;}#sk-container-id-1 label.sk-toggleable__label {cursor: pointer;display: block;width: 100%;margin-bottom: 0;padding: 0.3em;box-sizing: border-box;text-align: center;}#sk-container-id-1 label.sk-toggleable__label-arrow:before {content: \"▸\";float: left;margin-right: 0.25em;color: #696969;}#sk-container-id-1 label.sk-toggleable__label-arrow:hover:before {color: black;}#sk-container-id-1 div.sk-estimator:hover label.sk-toggleable__label-arrow:before {color: black;}#sk-container-id-1 div.sk-toggleable__content {max-height: 0;max-width: 0;overflow: hidden;text-align: left;background-color: #f0f8ff;}#sk-container-id-1 div.sk-toggleable__content pre {margin: 0.2em;color: black;border-radius: 0.25em;background-color: #f0f8ff;}#sk-container-id-1 input.sk-toggleable__control:checked~div.sk-toggleable__content {max-height: 200px;max-width: 100%;overflow: auto;}#sk-container-id-1 input.sk-toggleable__control:checked~label.sk-toggleable__label-arrow:before {content: \"▾\";}#sk-container-id-1 div.sk-estimator input.sk-toggleable__control:checked~label.sk-toggleable__label {background-color: #d4ebff;}#sk-container-id-1 div.sk-label input.sk-toggleable__control:checked~label.sk-toggleable__label {background-color: #d4ebff;}#sk-container-id-1 input.sk-hidden--visually {border: 0;clip: rect(1px 1px 1px 1px);clip: rect(1px, 1px, 1px, 1px);height: 1px;margin: -1px;overflow: hidden;padding: 0;position: absolute;width: 1px;}#sk-container-id-1 div.sk-estimator {font-family: monospace;background-color: #f0f8ff;border: 1px dotted black;border-radius: 0.25em;box-sizing: border-box;margin-bottom: 0.5em;}#sk-container-id-1 div.sk-estimator:hover {background-color: #d4ebff;}#sk-container-id-1 div.sk-parallel-item::after {content: \"\";width: 100%;border-bottom: 1px solid gray;flex-grow: 1;}#sk-container-id-1 div.sk-label:hover label.sk-toggleable__label {background-color: #d4ebff;}#sk-container-id-1 div.sk-serial::before {content: \"\";position: absolute;border-left: 1px solid gray;box-sizing: border-box;top: 0;bottom: 0;left: 50%;z-index: 0;}#sk-container-id-1 div.sk-serial {display: flex;flex-direction: column;align-items: center;background-color: white;padding-right: 0.2em;padding-left: 0.2em;position: relative;}#sk-container-id-1 div.sk-item {position: relative;z-index: 1;}#sk-container-id-1 div.sk-parallel {display: flex;align-items: stretch;justify-content: center;background-color: white;position: relative;}#sk-container-id-1 div.sk-item::before, #sk-container-id-1 div.sk-parallel-item::before {content: \"\";position: absolute;border-left: 1px solid gray;box-sizing: border-box;top: 0;bottom: 0;left: 50%;z-index: -1;}#sk-container-id-1 div.sk-parallel-item {display: flex;flex-direction: column;z-index: 1;position: relative;background-color: white;}#sk-container-id-1 div.sk-parallel-item:first-child::after {align-self: flex-end;width: 50%;}#sk-container-id-1 div.sk-parallel-item:last-child::after {align-self: flex-start;width: 50%;}#sk-container-id-1 div.sk-parallel-item:only-child::after {width: 0;}#sk-container-id-1 div.sk-dashed-wrapped {border: 1px dashed gray;margin: 0 0.4em 0.5em 0.4em;box-sizing: border-box;padding-bottom: 0.4em;background-color: white;}#sk-container-id-1 div.sk-label label {font-family: monospace;font-weight: bold;display: inline-block;line-height: 1.2em;}#sk-container-id-1 div.sk-label-container {text-align: center;}#sk-container-id-1 div.sk-container {/* jupyter's `normalize.less` sets `[hidden] { display: none; }` but bootstrap.min.css set `[hidden] { display: none !important; }` so we also need the `!important` here to be able to override the default hidden behavior on the sphinx rendered scikit-learn.org. See: https://github.com/scikit-learn/scikit-learn/issues/21755 */display: inline-block !important;position: relative;}#sk-container-id-1 div.sk-text-repr-fallback {display: none;}</style><div id=\"sk-container-id-1\" class=\"sk-top-container\"><div class=\"sk-text-repr-fallback\"><pre>LinearRegression()</pre><b>In a Jupyter environment, please rerun this cell to show the HTML representation or trust the notebook. <br />On GitHub, the HTML representation is unable to render, please try loading this page with nbviewer.org.</b></div><div class=\"sk-container\" hidden><div class=\"sk-item\"><div class=\"sk-estimator sk-toggleable\"><input class=\"sk-toggleable__control sk-hidden--visually\" id=\"sk-estimator-id-1\" type=\"checkbox\" checked><label for=\"sk-estimator-id-1\" class=\"sk-toggleable__label sk-toggleable__label-arrow\">LinearRegression</label><div class=\"sk-toggleable__content\"><pre>LinearRegression()</pre></div></div></div></div></div>"
      ],
      "text/plain": [
       "LinearRegression()"
      ]
     },
     "execution_count": 13,
     "metadata": {},
     "output_type": "execute_result"
    }
   ],
   "source": [
    "# Fit the Model\n",
    "lr.fit(X_train_ctx, y_train)"
   ]
  },
  {
   "cell_type": "markdown",
   "id": "6c8962cd-cd81-4ef0-9a05-75154b2ed6ee",
   "metadata": {},
   "source": [
    "### Create Kaggle Submission File\n",
    "---\n"
   ]
  },
  {
   "cell_type": "code",
   "execution_count": 14,
   "id": "b5a1b097-7557-47db-9ee0-6ba7537547a2",
   "metadata": {},
   "outputs": [],
   "source": [
    "y_preds = lr.predict(val_enc)"
   ]
  },
  {
   "cell_type": "code",
   "execution_count": 15,
   "id": "8f9cd42b-dda0-4ebf-b456-b7975ebd0889",
   "metadata": {},
   "outputs": [
    {
     "data": {
      "text/plain": [
       "(878, 82)"
      ]
     },
     "execution_count": 15,
     "metadata": {},
     "output_type": "execute_result"
    }
   ],
   "source": [
    "#Attaching the y_preds series to the validate_clean data to submit to Kaggle.\n",
    "validate_clean['saleprice']= y_preds\n",
    "validate_clean.shape"
   ]
  },
  {
   "cell_type": "code",
   "execution_count": 16,
   "id": "cf373bd3-f156-451e-8d3b-f8a1e9f719ad",
   "metadata": {},
   "outputs": [],
   "source": [
    "# alidate_clean[['id', 'saleprice']].to_csv('../datasets/khalbig_kaggle_submission.csv', index= False)"
   ]
  },
  {
   "cell_type": "code",
   "execution_count": 17,
   "id": "663c12c0-a683-4a82-9945-e49441315354",
   "metadata": {},
   "outputs": [
    {
     "data": {
      "text/html": [
       "<div>\n",
       "<style scoped>\n",
       "    .dataframe tbody tr th:only-of-type {\n",
       "        vertical-align: middle;\n",
       "    }\n",
       "\n",
       "    .dataframe tbody tr th {\n",
       "        vertical-align: top;\n",
       "    }\n",
       "\n",
       "    .dataframe thead th {\n",
       "        text-align: right;\n",
       "    }\n",
       "</style>\n",
       "<table border=\"1\" class=\"dataframe\">\n",
       "  <thead>\n",
       "    <tr style=\"text-align: right;\">\n",
       "      <th></th>\n",
       "      <th>id</th>\n",
       "      <th>pid</th>\n",
       "      <th>ms_subclass</th>\n",
       "      <th>ms_zoning</th>\n",
       "      <th>lot_frontage</th>\n",
       "      <th>lot_area</th>\n",
       "      <th>street</th>\n",
       "      <th>alley</th>\n",
       "      <th>lot_shape</th>\n",
       "      <th>land_contour</th>\n",
       "      <th>...</th>\n",
       "      <th>pool_area</th>\n",
       "      <th>pool_qc</th>\n",
       "      <th>fence</th>\n",
       "      <th>misc_feature</th>\n",
       "      <th>misc_val</th>\n",
       "      <th>mo_sold</th>\n",
       "      <th>yr_sold</th>\n",
       "      <th>sale_type</th>\n",
       "      <th>kitchen_qual * overall_qual * exter_qual</th>\n",
       "      <th>saleprice</th>\n",
       "    </tr>\n",
       "  </thead>\n",
       "  <tbody>\n",
       "    <tr>\n",
       "      <th>0</th>\n",
       "      <td>2658</td>\n",
       "      <td>902301120</td>\n",
       "      <td>190</td>\n",
       "      <td>RM</td>\n",
       "      <td>69.0</td>\n",
       "      <td>9142</td>\n",
       "      <td>Pave</td>\n",
       "      <td>Grvl</td>\n",
       "      <td>Reg</td>\n",
       "      <td>Lvl</td>\n",
       "      <td>...</td>\n",
       "      <td>0</td>\n",
       "      <td>NaN</td>\n",
       "      <td>NaN</td>\n",
       "      <td>NaN</td>\n",
       "      <td>0</td>\n",
       "      <td>4</td>\n",
       "      <td>2006</td>\n",
       "      <td>WD</td>\n",
       "      <td>0</td>\n",
       "      <td>147159.989769</td>\n",
       "    </tr>\n",
       "    <tr>\n",
       "      <th>1</th>\n",
       "      <td>2718</td>\n",
       "      <td>905108090</td>\n",
       "      <td>90</td>\n",
       "      <td>RL</td>\n",
       "      <td>NaN</td>\n",
       "      <td>9662</td>\n",
       "      <td>Pave</td>\n",
       "      <td>NaN</td>\n",
       "      <td>IR1</td>\n",
       "      <td>Lvl</td>\n",
       "      <td>...</td>\n",
       "      <td>0</td>\n",
       "      <td>NaN</td>\n",
       "      <td>NaN</td>\n",
       "      <td>NaN</td>\n",
       "      <td>0</td>\n",
       "      <td>8</td>\n",
       "      <td>2006</td>\n",
       "      <td>WD</td>\n",
       "      <td>5</td>\n",
       "      <td>168980.288993</td>\n",
       "    </tr>\n",
       "    <tr>\n",
       "      <th>2</th>\n",
       "      <td>2414</td>\n",
       "      <td>528218130</td>\n",
       "      <td>60</td>\n",
       "      <td>RL</td>\n",
       "      <td>58.0</td>\n",
       "      <td>17104</td>\n",
       "      <td>Pave</td>\n",
       "      <td>NaN</td>\n",
       "      <td>IR1</td>\n",
       "      <td>Lvl</td>\n",
       "      <td>...</td>\n",
       "      <td>0</td>\n",
       "      <td>NaN</td>\n",
       "      <td>NaN</td>\n",
       "      <td>NaN</td>\n",
       "      <td>0</td>\n",
       "      <td>9</td>\n",
       "      <td>2006</td>\n",
       "      <td>New</td>\n",
       "      <td>28</td>\n",
       "      <td>196011.260799</td>\n",
       "    </tr>\n",
       "    <tr>\n",
       "      <th>3</th>\n",
       "      <td>1989</td>\n",
       "      <td>902207150</td>\n",
       "      <td>30</td>\n",
       "      <td>RM</td>\n",
       "      <td>60.0</td>\n",
       "      <td>8520</td>\n",
       "      <td>Pave</td>\n",
       "      <td>NaN</td>\n",
       "      <td>Reg</td>\n",
       "      <td>Lvl</td>\n",
       "      <td>...</td>\n",
       "      <td>0</td>\n",
       "      <td>NaN</td>\n",
       "      <td>NaN</td>\n",
       "      <td>NaN</td>\n",
       "      <td>0</td>\n",
       "      <td>7</td>\n",
       "      <td>2007</td>\n",
       "      <td>WD</td>\n",
       "      <td>10</td>\n",
       "      <td>98874.471907</td>\n",
       "    </tr>\n",
       "    <tr>\n",
       "      <th>4</th>\n",
       "      <td>625</td>\n",
       "      <td>535105100</td>\n",
       "      <td>20</td>\n",
       "      <td>RL</td>\n",
       "      <td>NaN</td>\n",
       "      <td>9500</td>\n",
       "      <td>Pave</td>\n",
       "      <td>NaN</td>\n",
       "      <td>IR1</td>\n",
       "      <td>Lvl</td>\n",
       "      <td>...</td>\n",
       "      <td>0</td>\n",
       "      <td>NaN</td>\n",
       "      <td>NaN</td>\n",
       "      <td>NaN</td>\n",
       "      <td>0</td>\n",
       "      <td>7</td>\n",
       "      <td>2009</td>\n",
       "      <td>WD</td>\n",
       "      <td>6</td>\n",
       "      <td>160746.686870</td>\n",
       "    </tr>\n",
       "  </tbody>\n",
       "</table>\n",
       "<p>5 rows × 82 columns</p>\n",
       "</div>"
      ],
      "text/plain": [
       "     id        pid  ms_subclass ms_zoning  lot_frontage  lot_area street  \\\n",
       "0  2658  902301120          190        RM          69.0      9142   Pave   \n",
       "1  2718  905108090           90        RL           NaN      9662   Pave   \n",
       "2  2414  528218130           60        RL          58.0     17104   Pave   \n",
       "3  1989  902207150           30        RM          60.0      8520   Pave   \n",
       "4   625  535105100           20        RL           NaN      9500   Pave   \n",
       "\n",
       "  alley lot_shape land_contour  ... pool_area pool_qc fence misc_feature  \\\n",
       "0  Grvl       Reg          Lvl  ...         0     NaN   NaN          NaN   \n",
       "1   NaN       IR1          Lvl  ...         0     NaN   NaN          NaN   \n",
       "2   NaN       IR1          Lvl  ...         0     NaN   NaN          NaN   \n",
       "3   NaN       Reg          Lvl  ...         0     NaN   NaN          NaN   \n",
       "4   NaN       IR1          Lvl  ...         0     NaN   NaN          NaN   \n",
       "\n",
       "  misc_val mo_sold yr_sold sale_type  \\\n",
       "0        0       4    2006       WD    \n",
       "1        0       8    2006       WD    \n",
       "2        0       9    2006       New   \n",
       "3        0       7    2007       WD    \n",
       "4        0       7    2009       WD    \n",
       "\n",
       "   kitchen_qual * overall_qual * exter_qual      saleprice  \n",
       "0                                         0  147159.989769  \n",
       "1                                         5  168980.288993  \n",
       "2                                        28  196011.260799  \n",
       "3                                        10   98874.471907  \n",
       "4                                         6  160746.686870  \n",
       "\n",
       "[5 rows x 82 columns]"
      ]
     },
     "execution_count": 17,
     "metadata": {},
     "output_type": "execute_result"
    }
   ],
   "source": [
    "validate_clean.head()"
   ]
  }
 ],
 "metadata": {
  "kernelspec": {
   "display_name": "Python 3 (ipykernel)",
   "language": "python",
   "name": "python3"
  },
  "language_info": {
   "codemirror_mode": {
    "name": "ipython",
    "version": 3
   },
   "file_extension": ".py",
   "mimetype": "text/x-python",
   "name": "python",
   "nbconvert_exporter": "python",
   "pygments_lexer": "ipython3",
   "version": "3.11.7"
  }
 },
 "nbformat": 4,
 "nbformat_minor": 5
}
